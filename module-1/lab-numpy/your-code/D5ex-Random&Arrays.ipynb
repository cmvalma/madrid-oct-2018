{
 "cells": [
  {
   "cell_type": "markdown",
   "metadata": {},
   "source": [
    "Está desarrollado, especialmente al principio en vsCode. A partir de ej 9 aquí igual."
   ]
  },
  {
   "cell_type": "code",
   "execution_count": 1,
   "metadata": {},
   "outputs": [],
   "source": [
    "import numpy as np"
   ]
  },
  {
   "cell_type": "markdown",
   "metadata": {},
   "source": [
    "# Random"
   ]
  },
  {
   "cell_type": "code",
   "execution_count": 2,
   "metadata": {},
   "outputs": [
    {
     "data": {
      "text/plain": [
       "array([[[0.32867628, 0.35073552, 0.13998989, 0.11632413, 0.85076657],\n",
       "        [0.34830061, 0.24800611, 0.65361982, 0.84371955, 0.32066555],\n",
       "        [0.82654795, 0.82119937, 0.88203233, 0.44121857, 0.07420423]],\n",
       "\n",
       "       [[0.44808333, 0.51665496, 0.38625333, 0.25536305, 0.59485847],\n",
       "        [0.38121872, 0.41420294, 0.91397568, 0.13894659, 0.16683535],\n",
       "        [0.4240922 , 0.13420218, 0.60523859, 0.32837709, 0.88692215]]])"
      ]
     },
     "execution_count": 2,
     "metadata": {},
     "output_type": "execute_result"
    }
   ],
   "source": [
    "a = np.random.random((2, 3, 5))\n",
    "a"
   ]
  },
  {
   "cell_type": "markdown",
   "metadata": {},
   "source": [
    "RAND creates the array from given numbers inside the function, so just **one parenthesis** (for the function) is enough:"
   ]
  },
  {
   "cell_type": "code",
   "execution_count": 3,
   "metadata": {},
   "outputs": [
    {
     "data": {
      "text/plain": [
       "array([[[0.02588773, 0.09683822, 0.88019871, 0.52145382, 0.79915295],\n",
       "        [0.49141877, 0.07682388, 0.14202446, 0.34084556, 0.83771725],\n",
       "        [0.39241765, 0.55425858, 0.91941032, 0.1015146 , 0.86423642]],\n",
       "\n",
       "       [[0.96454578, 0.34170861, 0.21344541, 0.37625821, 0.92438214],\n",
       "        [0.30118175, 0.4769497 , 0.46409197, 0.52634162, 0.41407594],\n",
       "        [0.62991682, 0.35478619, 0.68988959, 0.91617484, 0.23127138]]])"
      ]
     },
     "execution_count": 3,
     "metadata": {},
     "output_type": "execute_result"
    }
   ],
   "source": [
    "a2 = np.random.rand(2, 3, 5)\n",
    "a2"
   ]
  },
  {
   "cell_type": "code",
   "execution_count": 4,
   "metadata": {},
   "outputs": [
    {
     "data": {
      "text/plain": [
       "array([[[0.84171315, 0.64896034, 0.05473123, 0.27420126, 0.31965437],\n",
       "        [0.53220958, 0.04892052, 0.85845317, 0.80986537, 0.5776321 ],\n",
       "        [0.29390114, 0.77752001, 0.52091615, 0.26583289, 0.73615348]],\n",
       "\n",
       "       [[0.12495233, 0.05411803, 0.09852396, 0.28054521, 0.0592931 ],\n",
       "        [0.20295282, 0.43406029, 0.88657283, 0.11218157, 0.19281145],\n",
       "        [0.09918209, 0.78360197, 0.03066254, 0.11786018, 0.09820049]]])"
      ]
     },
     "execution_count": 4,
     "metadata": {},
     "output_type": "execute_result"
    }
   ],
   "source": [
    "a3 = np.random.random_sample((2, 3, 5))\n",
    "a3"
   ]
  },
  {
   "cell_type": "code",
   "execution_count": 5,
   "metadata": {},
   "outputs": [
    {
     "data": {
      "text/plain": [
       "array([[[0.27751327, 0.41692272, 0.92503347, 0.39685426, 0.64513305],\n",
       "        [0.21169812, 0.90100838, 0.18172431, 0.3191464 , 0.95470742],\n",
       "        [0.1369501 , 0.97512897, 0.67228428, 0.56235521, 0.8630947 ]],\n",
       "\n",
       "       [[0.13879597, 0.83218542, 0.37756588, 0.91862809, 0.01612515],\n",
       "        [0.41248803, 0.80293398, 0.39166802, 0.7192624 , 0.44663361],\n",
       "        [0.7741541 , 0.89247164, 0.72114331, 0.56340212, 0.97029654]]])"
      ]
     },
     "execution_count": 5,
     "metadata": {},
     "output_type": "execute_result"
    }
   ],
   "source": [
    "a4 = np.random.ranf((2, 3, 5))\n",
    "a4"
   ]
  },
  {
   "cell_type": "code",
   "execution_count": 6,
   "metadata": {},
   "outputs": [
    {
     "data": {
      "text/plain": [
       "array([[[0.33295385, 0.18253003, 0.14873063, 0.60659225, 0.27554334],\n",
       "        [0.55631748, 0.45388872, 0.55160038, 0.77236359, 0.26063936],\n",
       "        [0.53683899, 0.91028135, 0.34948042, 0.09135387, 0.66184918]],\n",
       "\n",
       "       [[0.69588076, 0.08858657, 0.19594821, 0.44563204, 0.62373394],\n",
       "        [0.04973394, 0.03125128, 0.53270169, 0.69479091, 0.78905624],\n",
       "        [0.93665437, 0.67078953, 0.05848314, 0.08325518, 0.47875779]]])"
      ]
     },
     "execution_count": 6,
     "metadata": {},
     "output_type": "execute_result"
    }
   ],
   "source": [
    "a5 = np.random.sample((2, 3, 5))\n",
    "a5"
   ]
  },
  {
   "cell_type": "markdown",
   "metadata": {},
   "source": [
    "# Arrays "
   ]
  },
  {
   "cell_type": "code",
   "execution_count": 7,
   "metadata": {},
   "outputs": [
    {
     "name": "stdout",
     "output_type": "stream",
     "text": [
      "[[[1. 1. 1.]\n",
      "  [1. 1. 1.]]\n",
      "\n",
      " [[1. 1. 1.]\n",
      "  [1. 1. 1.]]\n",
      "\n",
      " [[1. 1. 1.]\n",
      "  [1. 1. 1.]]\n",
      "\n",
      " [[1. 1. 1.]\n",
      "  [1. 1. 1.]]\n",
      "\n",
      " [[1. 1. 1.]\n",
      "  [1. 1. 1.]]]\n"
     ]
    }
   ],
   "source": [
    "#5&6. Create a 5x2x3 3-dimensional array with all values equaling 1.\n",
    "#Assign the array to variable \"b\"\n",
    "b = np.ones((5, 2, 3)) \n",
    "print(b)"
   ]
  },
  {
   "cell_type": "code",
   "execution_count": 8,
   "metadata": {},
   "outputs": [
    {
     "name": "stdout",
     "output_type": "stream",
     "text": [
      "a= \n",
      " [[[0.32867628 0.35073552 0.13998989 0.11632413 0.85076657]\n",
      "  [0.34830061 0.24800611 0.65361982 0.84371955 0.32066555]\n",
      "  [0.82654795 0.82119937 0.88203233 0.44121857 0.07420423]]\n",
      "\n",
      " [[0.44808333 0.51665496 0.38625333 0.25536305 0.59485847]\n",
      "  [0.38121872 0.41420294 0.91397568 0.13894659 0.16683535]\n",
      "  [0.4240922  0.13420218 0.60523859 0.32837709 0.88692215]]] \n",
      "\n",
      "b= \n",
      " [[[1. 1. 1.]\n",
      "  [1. 1. 1.]]\n",
      "\n",
      " [[1. 1. 1.]\n",
      "  [1. 1. 1.]]\n",
      "\n",
      " [[1. 1. 1.]\n",
      "  [1. 1. 1.]]\n",
      "\n",
      " [[1. 1. 1.]\n",
      "  [1. 1. 1.]]\n",
      "\n",
      " [[1. 1. 1.]\n",
      "  [1. 1. 1.]]] \n",
      "\n",
      "c= \n",
      " [[[1. 1. 1. 1. 1.]\n",
      "  [1. 1. 1. 1. 1.]\n",
      "  [1. 1. 1. 1. 1.]]\n",
      "\n",
      " [[1. 1. 1. 1. 1.]\n",
      "  [1. 1. 1. 1. 1.]\n",
      "  [1. 1. 1. 1. 1.]]] \n",
      "\n"
     ]
    }
   ],
   "source": [
    "#9. Transpose b so that it has the same structure of a (i.e. become a 2x3x5 array). \n",
    "# Assign the transposed array to variable \"c\".\n",
    "\n",
    "## a is of shape (2, 3, 5), b shape is (5, 2, 3)\n",
    "## We need to make axe 1 to 0, 2 to 1 and 0 to 3:\n",
    "c = np.transpose(b, (1, 2, 0))\n",
    "print('a= \\n', a, '\\n')\n",
    "print('b= \\n', b, '\\n')\n",
    "print('c= \\n', c, '\\n')"
   ]
  },
  {
   "cell_type": "code",
   "execution_count": 9,
   "metadata": {},
   "outputs": [
    {
     "name": "stdout",
     "output_type": "stream",
     "text": [
      "d= \n",
      " [[[1.32867628 1.35073552 1.13998989 1.11632413 1.85076657]\n",
      "  [1.34830061 1.24800611 1.65361982 1.84371955 1.32066555]\n",
      "  [1.82654795 1.82119937 1.88203233 1.44121857 1.07420423]]\n",
      "\n",
      " [[1.44808333 1.51665496 1.38625333 1.25536305 1.59485847]\n",
      "  [1.38121872 1.41420294 1.91397568 1.13894659 1.16683535]\n",
      "  [1.4240922  1.13420218 1.60523859 1.32837709 1.88692215]]] \n",
      "\n"
     ]
    }
   ],
   "source": [
    "#10. Try to add a and c. Now it should work. Assign the sum to varialbe \"d\". \n",
    "\n",
    "##--> If we were asked for a total sum of the elements \n",
    "## (but I assume we are not, just that I saw somewhere that we had to use the sum fn: \n",
    "## d = np.sum((a, c))\n",
    "## print('d= \\n', d, '\\n')\n",
    "\n",
    "# But what we want is another array, so no sum fn here: \n",
    "d = a + c\n",
    "print('d= \\n', d, '\\n')\n",
    "##---> Works. "
   ]
  },
  {
   "cell_type": "markdown",
   "metadata": {},
   "source": [
    "11. Print a and d. Notice the difference and relation of the two array in terms of the values? Explain."
   ]
  },
  {
   "cell_type": "code",
   "execution_count": 10,
   "metadata": {},
   "outputs": [
    {
     "name": "stdout",
     "output_type": "stream",
     "text": [
      "a= \n",
      " [[[0.32867628 0.35073552 0.13998989 0.11632413 0.85076657]\n",
      "  [0.34830061 0.24800611 0.65361982 0.84371955 0.32066555]\n",
      "  [0.82654795 0.82119937 0.88203233 0.44121857 0.07420423]]\n",
      "\n",
      " [[0.44808333 0.51665496 0.38625333 0.25536305 0.59485847]\n",
      "  [0.38121872 0.41420294 0.91397568 0.13894659 0.16683535]\n",
      "  [0.4240922  0.13420218 0.60523859 0.32837709 0.88692215]]] \n",
      "\n",
      "d= \n",
      " [[[1.32867628 1.35073552 1.13998989 1.11632413 1.85076657]\n",
      "  [1.34830061 1.24800611 1.65361982 1.84371955 1.32066555]\n",
      "  [1.82654795 1.82119937 1.88203233 1.44121857 1.07420423]]\n",
      "\n",
      " [[1.44808333 1.51665496 1.38625333 1.25536305 1.59485847]\n",
      "  [1.38121872 1.41420294 1.91397568 1.13894659 1.16683535]\n",
      "  [1.4240922  1.13420218 1.60523859 1.32837709 1.88692215]]] \n",
      "\n"
     ]
    }
   ],
   "source": [
    "print('a= \\n', a, '\\n')\n",
    "print('d= \\n', d, '\\n')"
   ]
  },
  {
   "cell_type": "markdown",
   "metadata": {},
   "source": [
    "we are just adding 1 to each element, as d has been created with the `one` fn. "
   ]
  },
  {
   "cell_type": "markdown",
   "metadata": {},
   "source": [
    "12. Multiply a and c. Assign the result to e."
   ]
  },
  {
   "cell_type": "code",
   "execution_count": 11,
   "metadata": {},
   "outputs": [
    {
     "data": {
      "text/plain": [
       "array([[[0.32867628, 0.35073552, 0.13998989, 0.11632413, 0.85076657],\n",
       "        [0.34830061, 0.24800611, 0.65361982, 0.84371955, 0.32066555],\n",
       "        [0.82654795, 0.82119937, 0.88203233, 0.44121857, 0.07420423]],\n",
       "\n",
       "       [[0.44808333, 0.51665496, 0.38625333, 0.25536305, 0.59485847],\n",
       "        [0.38121872, 0.41420294, 0.91397568, 0.13894659, 0.16683535],\n",
       "        [0.4240922 , 0.13420218, 0.60523859, 0.32837709, 0.88692215]]])"
      ]
     },
     "execution_count": 11,
     "metadata": {},
     "output_type": "execute_result"
    }
   ],
   "source": [
    "e = a * c\n",
    "e"
   ]
  },
  {
   "cell_type": "markdown",
   "metadata": {},
   "source": [
    "13. Does e equal to a? Why or why not?"
   ]
  },
  {
   "cell_type": "code",
   "execution_count": 12,
   "metadata": {},
   "outputs": [
    {
     "name": "stdout",
     "output_type": "stream",
     "text": [
      "a= \n",
      " [[[0.32867628 0.35073552 0.13998989 0.11632413 0.85076657]\n",
      "  [0.34830061 0.24800611 0.65361982 0.84371955 0.32066555]\n",
      "  [0.82654795 0.82119937 0.88203233 0.44121857 0.07420423]]\n",
      "\n",
      " [[0.44808333 0.51665496 0.38625333 0.25536305 0.59485847]\n",
      "  [0.38121872 0.41420294 0.91397568 0.13894659 0.16683535]\n",
      "  [0.4240922  0.13420218 0.60523859 0.32837709 0.88692215]]] \n",
      "\n",
      "c= \n",
      " [[[1. 1. 1. 1. 1.]\n",
      "  [1. 1. 1. 1. 1.]\n",
      "  [1. 1. 1. 1. 1.]]\n",
      "\n",
      " [[1. 1. 1. 1. 1.]\n",
      "  [1. 1. 1. 1. 1.]\n",
      "  [1. 1. 1. 1. 1.]]] \n",
      "\n",
      "e= \n",
      " [[[0.32867628 0.35073552 0.13998989 0.11632413 0.85076657]\n",
      "  [0.34830061 0.24800611 0.65361982 0.84371955 0.32066555]\n",
      "  [0.82654795 0.82119937 0.88203233 0.44121857 0.07420423]]\n",
      "\n",
      " [[0.44808333 0.51665496 0.38625333 0.25536305 0.59485847]\n",
      "  [0.38121872 0.41420294 0.91397568 0.13894659 0.16683535]\n",
      "  [0.4240922  0.13420218 0.60523859 0.32837709 0.88692215]]] \n",
      "\n"
     ]
    },
    {
     "data": {
      "text/plain": [
       "array([[[ True,  True,  True,  True,  True],\n",
       "        [ True,  True,  True,  True,  True],\n",
       "        [ True,  True,  True,  True,  True]],\n",
       "\n",
       "       [[ True,  True,  True,  True,  True],\n",
       "        [ True,  True,  True,  True,  True],\n",
       "        [ True,  True,  True,  True,  True]]])"
      ]
     },
     "execution_count": 12,
     "metadata": {},
     "output_type": "execute_result"
    }
   ],
   "source": [
    "print('a= \\n', a, '\\n')\n",
    "print('c= \\n', c, '\\n')\n",
    "print('e= \\n', e, '\\n')\n",
    "e == a"
   ]
  },
  {
   "cell_type": "markdown",
   "metadata": {},
   "source": [
    "`a = e` because we are just multiplying `a` by one."
   ]
  },
  {
   "cell_type": "markdown",
   "metadata": {},
   "source": [
    "**14. Identify the max, min, and mean values in d. Assign those values to variables \"d_max\", \"d_min\", and \"d_mean\"**"
   ]
  },
  {
   "cell_type": "code",
   "execution_count": 13,
   "metadata": {},
   "outputs": [
    {
     "name": "stdout",
     "output_type": "stream",
     "text": [
      "1.9139756823555483 1.0742042331578827 1.461374370035919\n"
     ]
    }
   ],
   "source": [
    "d_max, d_min, d_mean = np.amax(d), np.amin(d), np.mean(d)\n",
    "print(d_max, d_min, d_mean)"
   ]
  },
  {
   "cell_type": "markdown",
   "metadata": {},
   "source": [
    "**15. Now we want to label the values in d. First create an empty array \"f\" with the same shape (i.e. 2x3x5) as d using `np.empty`.**"
   ]
  },
  {
   "cell_type": "code",
   "execution_count": 14,
   "metadata": {},
   "outputs": [
    {
     "data": {
      "text/plain": [
       "array([[[0.32867628, 0.35073552, 0.13998989, 0.11632413, 0.85076657],\n",
       "        [0.34830061, 0.24800611, 0.65361982, 0.84371955, 0.32066555],\n",
       "        [0.82654795, 0.82119937, 0.88203233, 0.44121857, 0.07420423]],\n",
       "\n",
       "       [[0.44808333, 0.51665496, 0.38625333, 0.25536305, 0.59485847],\n",
       "        [0.38121872, 0.41420294, 0.91397568, 0.13894659, 0.16683535],\n",
       "        [0.4240922 , 0.13420218, 0.60523859, 0.32837709, 0.88692215]]])"
      ]
     },
     "execution_count": 14,
     "metadata": {},
     "output_type": "execute_result"
    }
   ],
   "source": [
    "f = np.empty((2, 3, 5))\n",
    "##---> Use it with caution, as it doesn't initialze the values (unlike np.ceros)\n",
    "f\n",
    "##--->Se how here in Jupyter, it is taking the values of the previous array! In vsCode, print(f) doesn't print anything"
   ]
  },
  {
   "cell_type": "markdown",
   "metadata": {},
   "source": [
    "**16. Populate the values in f. For each value in d:**\n",
    "\n",
    "* if it's larger than d_min but smaller than d_mean, assign 25 to the corresponding value in f.\n",
    "* If a value in d is larger than d_mean but smaller than d_max, assign 75 to the corresponding value in f.\n",
    "* If a value equals to d_mean, assign 50 to the corresponding value in f.\n",
    "* Assign 0 to the corresponding value(s) in f for d_min in d.\n",
    "* Assign 100 to the corresponding value(s) in f for d_max in d.\n",
    "\n",
    "In the end, f should have only the following values: 0, 25, 50, 75, and 100.\n",
    "Note: you don't have to use Numpy in this question."
   ]
  },
  {
   "cell_type": "code",
   "execution_count": 15,
   "metadata": {},
   "outputs": [
    {
     "name": "stdout",
     "output_type": "stream",
     "text": [
      "[[[0.43239355 0.61527144 0.81828862 0.18180565 0.72953439]\n",
      "  [0.15083346 0.55346094 0.75194568 0.52944421 0.5005854 ]\n",
      "  [0.15602136 0.96255137 0.14529897 0.74579909 0.37177604]]\n",
      "\n",
      " [[0.38176634 0.76587859 0.83128187 0.44446682 0.75743077]\n",
      "  [0.96256696 0.09453707 0.00331646 0.0947169  0.89439987]\n",
      "  [0.3266463  0.71327135 0.49454884 0.12641841 0.14476288]]]\n"
     ]
    }
   ],
   "source": [
    "f = np.random.rand(2, 3, 5)\n",
    "print(f)"
   ]
  },
  {
   "cell_type": "markdown",
   "metadata": {},
   "source": [
    "#### Tests:"
   ]
  },
  {
   "cell_type": "markdown",
   "metadata": {},
   "source": [
    "**`for x in f`** recorre sólo los grupos exteriores. Comprobado imprimendo algo distinto en cada iteración"
   ]
  },
  {
   "cell_type": "code",
   "execution_count": 16,
   "metadata": {},
   "outputs": [
    {
     "name": "stdout",
     "output_type": "stream",
     "text": [
      "[[0.43239355 0.61527144 0.81828862 0.18180565 0.72953439]\n",
      " [0.15083346 0.55346094 0.75194568 0.52944421 0.5005854 ]\n",
      " [0.15602136 0.96255137 0.14529897 0.74579909 0.37177604]]\n",
      "comprobación\n",
      "[[0.38176634 0.76587859 0.83128187 0.44446682 0.75743077]\n",
      " [0.96256696 0.09453707 0.00331646 0.0947169  0.89439987]\n",
      " [0.3266463  0.71327135 0.49454884 0.12641841 0.14476288]]\n",
      "comprobación\n"
     ]
    }
   ],
   "source": [
    "for x in f:\n",
    "    print(x)\n",
    "    print(\"comprobación\")"
   ]
  },
  {
   "cell_type": "code",
   "execution_count": 17,
   "metadata": {},
   "outputs": [
    {
     "ename": "SyntaxError",
     "evalue": "unexpected EOF while parsing (<ipython-input-17-74a7fa8be09c>, line 4)",
     "output_type": "error",
     "traceback": [
      "\u001b[0;36m  File \u001b[0;32m\"<ipython-input-17-74a7fa8be09c>\"\u001b[0;36m, line \u001b[0;32m4\u001b[0m\n\u001b[0;31m    if x > d_min and x < d_mean:\u001b[0m\n\u001b[0m                                ^\u001b[0m\n\u001b[0;31mSyntaxError\u001b[0m\u001b[0;31m:\u001b[0m unexpected EOF while parsing\n"
     ]
    }
   ],
   "source": [
    "# i,j,k,l=0, 0, 0, 0\n",
    "# ERROR porque no se pueden comparar muchos valores con 1\n",
    "for x in f:\n",
    "        if x > d_min and x < d_mean:"
   ]
  },
  {
   "cell_type": "markdown",
   "metadata": {},
   "source": [
    ".DO: Es normal que lo de arriba no asigne, pero no tengo super claro porqué. \n",
    "\n",
    "MORE TESTS JUST FOR ME:"
   ]
  },
  {
   "cell_type": "code",
   "execution_count": null,
   "metadata": {},
   "outputs": [],
   "source": [
    "for x in np.nditer(f):\n",
    "        if x > d_min and x < d_mean:\n",
    "                f[np.nditer(f)] = 25\n",
    "                print(f[np.nditer(f)])\n",
    "        elif x > d_mean and x < d_max:\n",
    "                f[np.nditer(f)] = 75\n",
    "        elif x == d_mean:\n",
    "                f[np.nditer(f)] = 75\n",
    "        elif x == d_min:\n",
    "                f[np.nditer(f)] = 75\n",
    "        elif x == d_max:\n",
    "                f[np.nditer(f)] = 75\n",
    "print(f[np.nditer(f)])"
   ]
  },
  {
   "cell_type": "markdown",
   "metadata": {},
   "source": [
    "<b style='color:darkred'> Porqué esto sí funciona...: </p>"
   ]
  },
  {
   "cell_type": "code",
   "execution_count": null,
   "metadata": {},
   "outputs": [],
   "source": [
    "f[d<d_mean]=25\n",
    "print(f)"
   ]
  },
  {
   "cell_type": "markdown",
   "metadata": {},
   "source": [
    "<b style='color:darkred'> Pero esto no?:</p>\n"
   ]
  },
  {
   "cell_type": "code",
   "execution_count": null,
   "metadata": {},
   "outputs": [],
   "source": [
    "f[d_min<d<d_mean]=25\n",
    "print(f)"
   ]
  },
  {
   "cell_type": "code",
   "execution_count": null,
   "metadata": {},
   "outputs": [],
   "source": [
    "f.any(d_mean<d<d_mean) = 25"
   ]
  },
  {
   "cell_type": "markdown",
   "metadata": {},
   "source": [
    "#### **Compare directly inside f[]**: \n",
    "No need to limit min and max values as min and max are assigned later, so they will overwrite any previous value given"
   ]
  },
  {
   "cell_type": "markdown",
   "metadata": {},
   "source": [
    "No se puede meter un array dentro de un índice, el índece debe ser entero (o boolean que es 1 o 0):"
   ]
  },
  {
   "cell_type": "code",
   "execution_count": 22,
   "metadata": {},
   "outputs": [
    {
     "ename": "IndexError",
     "evalue": "arrays used as indices must be of integer (or boolean) type",
     "output_type": "error",
     "traceback": [
      "\u001b[0;31m---------------------------------------------------------------------------\u001b[0m",
      "\u001b[0;31mIndexError\u001b[0m                                Traceback (most recent call last)",
      "\u001b[0;32m<ipython-input-22-55ea2895390b>\u001b[0m in \u001b[0;36m<module>\u001b[0;34m\u001b[0m\n\u001b[0;32m----> 1\u001b[0;31m \u001b[0mf\u001b[0m\u001b[0;34m[\u001b[0m\u001b[0md\u001b[0m\u001b[0;34m]\u001b[0m\u001b[0;34m\u001b[0m\u001b[0m\n\u001b[0m\u001b[1;32m      2\u001b[0m \u001b[0;34m\u001b[0m\u001b[0m\n\u001b[1;32m      3\u001b[0m \u001b[0mprint\u001b[0m\u001b[0;34m(\u001b[0m\u001b[0md\u001b[0m\u001b[0;34m)\u001b[0m\u001b[0;34m\u001b[0m\u001b[0m\n",
      "\u001b[0;31mIndexError\u001b[0m: arrays used as indices must be of integer (or boolean) type"
     ]
    }
   ],
   "source": [
    "f[d]  \n",
    "\n",
    "print(d)"
   ]
  },
  {
   "cell_type": "markdown",
   "metadata": {},
   "source": [
    "Pero sí puedes meter el resultado de una comparación. Y SE PUEDE COMPARAR UN ARRAY CON UN NÚMERO. COMPARA TODOS LOS ELEMENTOS!:"
   ]
  },
  {
   "cell_type": "code",
   "execution_count": null,
   "metadata": {},
   "outputs": [],
   "source": [
    "f[d<d_mean]=25\n",
    "f[d==d_min]=0\n",
    "f[d==d_mean]=50\n",
    "f[d==d_max]=100\n",
    "print('d= \\n', d,'\\n\\n', 'f= \\n', f)"
   ]
  },
  {
   "cell_type": "markdown",
   "metadata": {},
   "source": [
    "#18. Bonus question: instead of using numbers (i.e. 0, 25, 50, 75, and 100), how to use string values \n",
    "(\"A\", \"B\", \"C\", \"D\", and \"E\") to label the array elements? You are expecting the result to be:\n",
    "array(\n",
    "\n",
    "        [[[ 'D',  'D',  'D',  'B',  'D'],\n",
    "        [ 'D',  'D',  'B',  'B',  'B'],\n",
    "        [ 'D',  'B',  'D',  'D',  'D']],\n",
    "\n",
    "       [[ 'B',  'B',  'B',  'B',  'E'],\n",
    "        [ 'D',  'D',  'D',  'D',  'D'],\n",
    "        [ 'B',  'D',   'A',  'D', 'D']]])"
   ]
  },
  {
   "cell_type": "code",
   "execution_count": null,
   "metadata": {},
   "outputs": [],
   "source": [
    "string = [\"%.2f\" % x for x in f]"
   ]
  },
  {
   "cell_type": "code",
   "execution_count": null,
   "metadata": {},
   "outputs": [],
   "source": [
    "for x in f: \n",
    "    print(\"%.2f\" % x)"
   ]
  },
  {
   "cell_type": "code",
   "execution_count": null,
   "metadata": {},
   "outputs": [],
   "source": [
    "for x in f:\n",
    "    f[x]=f[str(x)]"
   ]
  },
  {
   "cell_type": "code",
   "execution_count": 18,
   "metadata": {},
   "outputs": [
    {
     "ename": "ValueError",
     "evalue": "could not convert string to float: 'D'",
     "output_type": "error",
     "traceback": [
      "\u001b[0;31m---------------------------------------------------------------------------\u001b[0m",
      "\u001b[0;31mValueError\u001b[0m                                Traceback (most recent call last)",
      "\u001b[0;32m<ipython-input-18-3b139ee89be5>\u001b[0m in \u001b[0;36m<module>\u001b[0;34m\u001b[0m\n\u001b[0;32m----> 1\u001b[0;31m \u001b[0mf\u001b[0m\u001b[0;34m[\u001b[0m\u001b[0md\u001b[0m \u001b[0;34m>\u001b[0m \u001b[0md_mean\u001b[0m\u001b[0;34m]\u001b[0m \u001b[0;34m=\u001b[0m \u001b[0;34m'D'\u001b[0m\u001b[0;34m\u001b[0m\u001b[0m\n\u001b[0m\u001b[1;32m      2\u001b[0m \u001b[0mf\u001b[0m\u001b[0;34m[\u001b[0m\u001b[0md\u001b[0m \u001b[0;34m<\u001b[0m \u001b[0md_mean\u001b[0m\u001b[0;34m]\u001b[0m \u001b[0;34m=\u001b[0m \u001b[0;34m'B'\u001b[0m\u001b[0;34m\u001b[0m\u001b[0m\n\u001b[1;32m      3\u001b[0m \u001b[0mf\u001b[0m\u001b[0;34m[\u001b[0m\u001b[0md\u001b[0m \u001b[0;34m==\u001b[0m \u001b[0md_min\u001b[0m\u001b[0;34m]\u001b[0m \u001b[0;34m=\u001b[0m \u001b[0;34m'A'\u001b[0m\u001b[0;34m\u001b[0m\u001b[0m\n\u001b[1;32m      4\u001b[0m \u001b[0mf\u001b[0m\u001b[0;34m[\u001b[0m\u001b[0md\u001b[0m \u001b[0;34m==\u001b[0m \u001b[0md_mean\u001b[0m\u001b[0;34m]\u001b[0m \u001b[0;34m=\u001b[0m \u001b[0;34m'C'\u001b[0m\u001b[0;34m\u001b[0m\u001b[0m\n\u001b[1;32m      5\u001b[0m \u001b[0mf\u001b[0m\u001b[0;34m[\u001b[0m\u001b[0md\u001b[0m \u001b[0;34m==\u001b[0m \u001b[0md_max\u001b[0m\u001b[0;34m]\u001b[0m \u001b[0;34m=\u001b[0m \u001b[0;34m'E'\u001b[0m\u001b[0;34m\u001b[0m\u001b[0m\n",
      "\u001b[0;31mValueError\u001b[0m: could not convert string to float: 'D'"
     ]
    }
   ],
   "source": [
    "f[d > d_mean] = 'D'\n",
    "f[d < d_mean] = 'B'\n",
    "f[d == d_min] = 'A'\n",
    "f[d == d_mean] = 'C'\n",
    "f[d == d_max] = 'E'\n"
   ]
  },
  {
   "cell_type": "code",
   "execution_count": null,
   "metadata": {},
   "outputs": [],
   "source": []
  },
  {
   "cell_type": "code",
   "execution_count": null,
   "metadata": {},
   "outputs": [],
   "source": []
  }
 ],
 "metadata": {
  "kernelspec": {
   "display_name": "Python 3",
   "language": "python",
   "name": "python3"
  },
  "language_info": {
   "codemirror_mode": {
    "name": "ipython",
    "version": 3
   },
   "file_extension": ".py",
   "mimetype": "text/x-python",
   "name": "python",
   "nbconvert_exporter": "python",
   "pygments_lexer": "ipython3",
   "version": "3.6.6"
  }
 },
 "nbformat": 4,
 "nbformat_minor": 2
}

{
 "cells": [
  {
   "cell_type": "markdown",
   "metadata": {},
   "source": [
    "# APIS lab"
   ]
  },
  {
   "cell_type": "markdown",
   "metadata": {},
   "source": [
    "* *Nota*: Git Hub API reccomends to explicitly request version 3 via the Accept header: `application/vnd.github.v3+json`\n",
    "-- por ahora no ha sido necesario. "
   ]
  },
  {
   "cell_type": "markdown",
   "metadata": {},
   "source": [
    "### **Challenge 1: Fork Languages**"
   ]
  },
  {
   "cell_type": "markdown",
   "metadata": {},
   "source": [
    "##### **1. Obtain all the forks of the `ironhack-datalabs/madrid-oct-2018` through Github API.**"
   ]
  },
  {
   "cell_type": "code",
   "execution_count": null,
   "metadata": {},
   "outputs": [],
   "source": [
    "import requests, json, pandas as pd"
   ]
  },
  {
   "cell_type": "markdown",
   "metadata": {},
   "source": [
    "Realizamos peticiones a través de la **request library** con **.get** or **.post** (sique protocolo HTTP/Rest).\n",
    "\n",
    "Para listar los **forks**:\n",
    "`GET /repos/:owner/:repo/forks` ( https://developer.github.com/v3/repos/forks/)"
   ]
  },
  {
   "cell_type": "code",
   "execution_count": null,
   "metadata": {},
   "outputs": [],
   "source": [
    "response = requests.get('https://api.github.com/repos/ironhack-datalabs/madrid-oct-2018/forks')"
   ]
  },
  {
   "cell_type": "code",
   "execution_count": null,
   "metadata": {},
   "outputs": [],
   "source": [
    "results = response.json()"
   ]
  },
  {
   "cell_type": "markdown",
   "metadata": {},
   "source": [
    "`*` Para visualizar el json entero, puede resultar más cómodo usar el notebook \"JasonResponse\" (en mismo folder o repo que este), así no se entorpece la visualización de este principal.\n"
   ]
  },
  {
   "cell_type": "markdown",
   "metadata": {},
   "source": [
    "##### **2. Loop the JSON response for the `language` attribute of each fork. Use an array to store the `language` attributes of each fork. The values in the array should be unique.**"
   ]
  },
  {
   "cell_type": "code",
   "execution_count": null,
   "metadata": {},
   "outputs": [],
   "source": [
    "data = pd.DataFrame(results)\n",
    "data.head(2)"
   ]
  },
  {
   "cell_type": "markdown",
   "metadata": {},
   "source": [
    "Display all keys (can't be seen on a normal-sized display):"
   ]
  },
  {
   "cell_type": "code",
   "execution_count": null,
   "metadata": {},
   "outputs": [],
   "source": [
    "data.keys()"
   ]
  },
  {
   "cell_type": "markdown",
   "metadata": {},
   "source": [
    "List all columns with a number of registers below, as another convenient way of having a representation of the data contained in each column (output is kept hidden, but hide it after seeing it if it is not for display space saving). It the content is pretty long, it doesn't show it entirely though:"
   ]
  },
  {
   "cell_type": "code",
   "execution_count": null,
   "metadata": {},
   "outputs": [],
   "source": [
    "for column in data:\n",
    "    print(data[column].head(2))"
   ]
  },
  {
   "cell_type": "markdown",
   "metadata": {},
   "source": [
    "Related with languages, the data has language and languages_url attributes. It might be 'language' the only requested one; let's get one array for only this attribute, and another one for the two of them.\n",
    "\n",
    "Lets get those ** unique attributes** for each fork. \n",
    "Newests versions of pandas have `iterrows()` to iterate through fields which is convenient and allows to also get an index as the \"i\" in:  \n",
    "`for i, row in data.iterrows():`  \n",
    "It seems it is not good in terms of efficiency (see https://medium.com/@rtjeannier/pandas-101-cont-9d061cb73bfc (also notice that the article writes `(i, row)` between parenthesis). But for our purposes is more than enough:"
   ]
  },
  {
   "cell_type": "code",
   "execution_count": 63,
   "metadata": {},
   "outputs": [
    {
     "name": "stdout",
     "output_type": "stream",
     "text": [
      "{'Jupyter Notebook', 'Python', 'HTML'} ['Jupyter Notebook', 'Python', 'HTML']\n"
     ]
    }
   ],
   "source": [
    "for row in data.iterrows(): \n",
    "    data_s = set(data['language'])\n",
    "data_a = list(data_s)"
   ]
  },
  {
   "cell_type": "markdown",
   "metadata": {},
   "source": [
    "##### **3. Print the language array. It should be something like:**\n",
    "\n",
    "   `[\"Python\", \"Jupyter Notebook\", \"HTML\"]`"
   ]
  },
  {
   "cell_type": "code",
   "execution_count": 64,
   "metadata": {},
   "outputs": [
    {
     "name": "stdout",
     "output_type": "stream",
     "text": [
      "['Jupyter Notebook', 'Python', 'HTML']\n"
     ]
    }
   ],
   "source": [
    "print(data_a)"
   ]
  },
  {
   "cell_type": "markdown",
   "metadata": {},
   "source": [
    "-\n",
    "\n",
    "______________________\n",
    "\n",
    "\n",
    "\n",
    "\n",
    "**Notas personales:**  \n",
    "*Para revisar*:  \n",
    "GitHub pone un ejemplo de como acceder, en la que la dirección es sólo así: \n",
    "`GET /org/octokit/repos`  \n",
    "\n",
    "Los requests se pueden hacer también por **`curl`** (para basch) parece que es una librería para terminal, que se encarga de realizar la comunicación automáticamente (hará los requests/gets o lo que necesite) - Pero cómo sabe si es una request Post o Get? * Ver link de Belén"
   ]
  }
 ],
 "metadata": {
  "kernelspec": {
   "display_name": "Python 3",
   "language": "python",
   "name": "python3"
  },
  "language_info": {
   "codemirror_mode": {
    "name": "ipython",
    "version": 3
   },
   "file_extension": ".py",
   "mimetype": "text/x-python",
   "name": "python",
   "nbconvert_exporter": "python",
   "pygments_lexer": "ipython3",
   "version": "3.6.6"
  }
 },
 "nbformat": 4,
 "nbformat_minor": 2
}

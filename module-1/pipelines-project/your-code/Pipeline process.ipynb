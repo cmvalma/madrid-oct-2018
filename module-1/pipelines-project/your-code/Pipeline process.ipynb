{
 "cells": [
  {
   "cell_type": "markdown",
   "metadata": {},
   "source": [
    "**Import** a data set \n",
    "\n",
    "Build a **data pipeline** that *processes** the data and **produces a result**.\n",
    "\n",
    "   Your pipeline should demonstrate your proficiency with **functions, list comprehensions, string operations, and error handling...**"
   ]
  },
  {
   "cell_type": "code",
   "execution_count": null,
   "metadata": {},
   "outputs": [],
   "source": [
    "import pandas as pd\n",
    "import matplotlib.pyplot as plt\n",
    "import seaborn as sns # Seaborn is a library to visualize data \n",
    "\n",
    "def acquire():\n",
    "    data = pd.read_csv('./data/vehicles.csv')\n",
    "    return data\n",
    "\n",
    "def wrangle(data, year):\n",
    "    return data[data['Year']==year]\n",
    "\n",
    "def analyze(filtered):\n",
    "    grouped = filtered.groupby('Make').agg({'Combined MPG':'mean'}).reset_index()\n",
    "    results = grouped.sort_values('Combined MPG', ascending=False).head(10)\n",
    "    return results\n",
    "\n",
    "## Data reporting\n",
    "def save_visualize(pepe, title):\n",
    "    fig, ax = plt.subplots(figsize=(15,8))\n",
    "    barchart = sns.barplot(data=pepe, x='Make', y='Combined MPG')\n",
    "    plt.title(title + \"\\n\", fontsize=16)\n",
    "    fig = barchart.get_figure()\n",
    "    fig.savefig(title + '.png')\n",
    "\n",
    "\n",
    "if __name__ == '__main__':\n",
    "    year = int(input('Enter the year: '))\n",
    "    title = 'Top 10 Manufacturers by Fuel Efficiency ' + str(year)\n",
    "    data = acquire()\n",
    "    filtered = wrangle(data, year)\n",
    "    results = analyze(filtered)\n",
    "    save_visualize(results, title)"
   ]
  }
 ],
 "metadata": {
  "kernelspec": {
   "display_name": "Python 3",
   "language": "python",
   "name": "python3"
  },
  "language_info": {
   "codemirror_mode": {
    "name": "ipython",
    "version": 3
   },
   "file_extension": ".py",
   "mimetype": "text/x-python",
   "name": "python",
   "nbconvert_exporter": "python",
   "pygments_lexer": "ipython3",
   "version": "3.6.6"
  }
 },
 "nbformat": 4,
 "nbformat_minor": 2
}

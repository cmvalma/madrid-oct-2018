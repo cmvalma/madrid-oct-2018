{
 "cells": [
  {
   "cell_type": "markdown",
   "metadata": {},
   "source": [
    "# WEB SCRAPPING GOOGLE SCHOLAR"
   ]
  },
  {
   "cell_type": "markdown",
   "metadata": {},
   "source": [
    "## Libraries"
   ]
  },
  {
   "cell_type": "markdown",
   "metadata": {},
   "source": [
    "Due to some misinformation on some sources, and some too similar names, a newbie could be confused as I was with `request` and `requests`, and with the `urllib` and `urllib3`libs. Let's clarify that:  \n",
    "\n",
    "Python comes with the `urllib` package, that comes with the **`request`** module (and with not as used `response`, `error`, `parse` and `robotparser`), which is used mostly to open urls, with `urlopen`, an equivalent to `open(file)` for urls. The **`requests`** (plural!) library, is a very useful API with which we handle the requests much easier. \n",
    "\n",
    "`requests` does depend partially on `urllib3`, but don't be misguided to import the `urllib3` library for your requests, the first already includes what it needs from the last. <blockquote>\"Under the hood, *requests* uses *urllib3* to do most of the http heavy lifting. When used properly they should be mostly the same unless you need more advanced configuration\" (ref: [Stackexchange](https://stackoverflow.com/questions/36937110/what-is-the-practical-difference-between-these-two-ways-of-making-web-connection))</blockquote> \n",
    "\n",
    "`urllib` and `urllib2` are standard Python librares (`urllib2` is included in `urllib`), but `urllib3` is a completely separated library with a misleading name. A portion of it has been included in the standard library, but it is not a newer version of `urllib`/`urllib2`; the library that actually wants to improve is `httplib` (ref: [Github](https://github.com/urllib3/urllib3/issues/1065)).  \n",
    "\n",
    "Here is what we need to import for our purposes:"
   ]
  },
  {
   "cell_type": "code",
   "execution_count": 44,
   "metadata": {},
   "outputs": [],
   "source": [
    "import requests, json, pandas as pd \n",
    "from bs4 import BeautifulSoup "
   ]
  },
  {
   "cell_type": "markdown",
   "metadata": {},
   "source": [
    "### On `request`:\n",
    "For mere instructional purposes, I'm importing the `urllib` and `urllib3` libraries to see the`request` (singular) function/module inside it. Again, is the `urllib` the one included in Python stdlib:"
   ]
  },
  {
   "cell_type": "code",
   "execution_count": 45,
   "metadata": {},
   "outputs": [
    {
     "name": "stdout",
     "output_type": "stream",
     "text": [
      "\n",
      " ['__builtins__', '__cached__', '__doc__', '__file__', '__loader__', '__name__', '__package__', '__path__', '__spec__', 'error', 'parse', 'request', 'response']\n",
      "['HTTPConnectionPool', 'HTTPResponse', 'HTTPSConnectionPool', 'PoolManager', 'ProxyManager', 'Retry', 'Timeout', '__all__', '__author__', '__builtins__', '__cached__', '__doc__', '__file__', '__license__', '__loader__', '__name__', '__package__', '__path__', '__spec__', '__version__', '_collections', 'absolute_import', 'add_stderr_logger', 'connection', 'connection_from_url', 'connectionpool', 'contrib', 'disable_warnings', 'encode_multipart_formdata', 'exceptions', 'fields', 'filepost', 'get_host', 'logging', 'make_headers', 'packages', 'poolmanager', 'proxy_from_url', 'request', 'response', 'util', 'warnings']\n"
     ]
    }
   ],
   "source": [
    "import urllib, urllib3\n",
    "print('\\n', dir(urllib))\n",
    "print(dir(urllib3)) # print() displays them more compacted"
   ]
  },
  {
   "cell_type": "markdown",
   "metadata": {},
   "source": [
    "________________\n",
    "Even though `urllib` library has been imported, if you type:\n",
    "`dir(request)`\n",
    "it would return an error:  \n",
    "`NameError: name 'request' is not defined`\n",
    "\n",
    "So importing a library doesn't grant access to their modules. We need to import the module from the library:"
   ]
  },
  {
   "cell_type": "code",
   "execution_count": 46,
   "metadata": {},
   "outputs": [],
   "source": [
    "from urllib import request"
   ]
  },
  {
   "cell_type": "markdown",
   "metadata": {},
   "source": [
    "Now we can:"
   ]
  },
  {
   "cell_type": "code",
   "execution_count": 47,
   "metadata": {},
   "outputs": [
    {
     "name": "stdout",
     "output_type": "stream",
     "text": [
      "['AbstractBasicAuthHandler', 'AbstractDigestAuthHandler', 'AbstractHTTPHandler', 'BaseHandler', 'CacheFTPHandler', 'ContentTooShortError', 'DataHandler', 'FTPHandler', 'FancyURLopener', 'FileHandler', 'HTTPBasicAuthHandler', 'HTTPCookieProcessor', 'HTTPDefaultErrorHandler', 'HTTPDigestAuthHandler', 'HTTPError', 'HTTPErrorProcessor', 'HTTPHandler', 'HTTPPasswordMgr', 'HTTPPasswordMgrWithDefaultRealm', 'HTTPPasswordMgrWithPriorAuth', 'HTTPRedirectHandler', 'HTTPSHandler', 'MAXFTPCACHE', 'OpenerDirector', 'ProxyBasicAuthHandler', 'ProxyDigestAuthHandler', 'ProxyHandler', 'Request', 'URLError', 'URLopener', 'UnknownHandler', '__all__', '__builtins__', '__cached__', '__doc__', '__file__', '__loader__', '__name__', '__package__', '__spec__', '__version__', '_cut_port_re', '_ftperrors', '_have_ssl', '_localhost', '_noheaders', '_opener', '_parse_proxy', '_proxy_bypass_macosx_sysconf', '_randombytes', '_safe_gethostbyname', '_thishost', '_url_tempfiles', 'addclosehook', 'addinfourl', 'base64', 'bisect', 'build_opener', 'collections', 'contextlib', 'email', 'ftpcache', 'ftperrors', 'ftpwrapper', 'getproxies', 'getproxies_environment', 'hashlib', 'http', 'install_opener', 'io', 'localhost', 'noheaders', 'os', 'parse_http_list', 'parse_keqv_list', 'pathname2url', 'posixpath', 'proxy_bypass', 'proxy_bypass_environment', 'quote', 're', 'request_host', 'socket', 'splitattr', 'splithost', 'splitpasswd', 'splitport', 'splitquery', 'splittag', 'splittype', 'splituser', 'splitvalue', 'ssl', 'string', 'sys', 'tempfile', 'thishost', 'time', 'to_bytes', 'unquote', 'unquote_to_bytes', 'unwrap', 'url2pathname', 'urlcleanup', 'urljoin', 'urlopen', 'urlparse', 'urlretrieve', 'urlsplit', 'urlunparse', 'warnings']\n"
     ]
    }
   ],
   "source": [
    "print(dir(request))"
   ]
  },
  {
   "cell_type": "markdown",
   "metadata": {},
   "source": [
    "In the list you can see that it contains, among may others, the `urlopen` function, which is not included in `requests`...  "
   ]
  },
  {
   "cell_type": "code",
   "execution_count": 48,
   "metadata": {},
   "outputs": [
    {
     "name": "stdout",
     "output_type": "stream",
     "text": [
      "['ConnectTimeout', 'ConnectionError', 'DependencyWarning', 'FileModeWarning', 'HTTPError', 'NullHandler', 'PreparedRequest', 'ReadTimeout', 'Request', 'RequestException', 'RequestsDependencyWarning', 'Response', 'Session', 'Timeout', 'TooManyRedirects', 'URLRequired', '__author__', '__author_email__', '__build__', '__builtins__', '__cached__', '__cake__', '__copyright__', '__description__', '__doc__', '__file__', '__license__', '__loader__', '__name__', '__package__', '__path__', '__spec__', '__title__', '__url__', '__version__', '_internal_utils', 'adapters', 'api', 'auth', 'certs', 'chardet', 'check_compatibility', 'codes', 'compat', 'cookies', 'delete', 'exceptions', 'get', 'head', 'hooks', 'logging', 'models', 'options', 'packages', 'patch', 'post', 'put', 'request', 'session', 'sessions', 'status_codes', 'structures', 'urllib3', 'utils', 'warnings']\n"
     ]
    }
   ],
   "source": [
    "print(dir(requests))"
   ]
  },
  {
   "cell_type": "markdown",
   "metadata": {},
   "source": [
    "After learning all of this, I have also learnt that urllib methods are all old-school methods. It is good to know and undestand them so that you reduce your confusion when you see them, but use `requests` instead. Having this clear, lets continue with our request, which we are going to do **from the library `requests`**, whith the `.get` method:"
   ]
  },
  {
   "cell_type": "markdown",
   "metadata": {},
   "source": [
    "## Connection and access to the html with `requests`"
   ]
  },
  {
   "cell_type": "code",
   "execution_count": 49,
   "metadata": {},
   "outputs": [],
   "source": [
    "url = 'https://scholar.google.es/citations?view_op=top_venues&hl=es'"
   ]
  },
  {
   "cell_type": "markdown",
   "metadata": {},
   "source": [
    "Among the `requests` library, we can use **`.text` or `.content`** to **get the content** of the request.  \n",
    "`.text` gets the content in *unicode*, and `.content` in *bytes*.  \n",
    "Yet Python 3, will display the content as text even though it will be a bytes object, so the display is basically the same, except that `.content` adds a 'b simbol (for bytes) before. \n",
    "Request library is unclear about the distinction among the two, but [Stack overflow discussion](https://stackoverflow.com/questions/17011357/what-is-the-difference-between-content-and-text), mentions that \n",
    "> HTML and XML use declarations in the data to do their own decoding, and so they should be fed the raw `.content`  \n",
    "\n",
    "But it is also mentioned that `.text` should be used for text-like formats like HTML and XML, and `.content` for *images* and *pdf*. Moreover, the [documentation](http://docs.python-requests.org/en/master/user/quickstart/#response-content) does say that \n",
    "> When you make a request, `Requests` makes educated guesses about the encoding of the response based on the HTTP headers.\n",
    "\n",
    "So I'm using **`.text`**:"
   ]
  },
  {
   "cell_type": "code",
   "execution_count": 50,
   "metadata": {},
   "outputs": [],
   "source": [
    "# reqContent = requests.get(url).content \n",
    "# reqContent"
   ]
  },
  {
   "cell_type": "code",
   "execution_count": 51,
   "metadata": {},
   "outputs": [
    {
     "data": {
      "text/plain": [
       "'<!doctype html><html><head><title>inglés - Estadísticas de Google Académico</title><meta http-equiv=\"Content-Type\" content=\"text/html;charset=ISO-8859-1\"><meta http-equiv=\"X-UA-Compatible\" content=\"IE=Edge\"><meta name=\"referrer\" content=\"always\"><meta name=\"viewport\" content=\"width=device-width,initial-scale=1,minimum-scale=1,maximum-scale=2\"><meta name=\"format-detection\" content=\"telephone=no\"><style>html,body,form,table,div,h1,h2,h3,h4,h5,h6,img,ol,ul,li,button{margin:0;padding:0;border:0;}table{border-collapse:collapse;border-width:0;empty-cells:show;}html,body{height:100%}#gs_top{position:relative;box-sizing:border-box;min-height:100%;min-width:964px;-webkit-tap-highlight-color:rgba(0,0,0,0);}#gs_top>*:not(#x){-webkit-tap-highlight-color:rgba(204,204,204,.5);}.gs_el_ph #gs_top,.gs_el_t'"
      ]
     },
     "execution_count": 51,
     "metadata": {},
     "output_type": "execute_result"
    }
   ],
   "source": [
    "reqText = requests.get(url).text\n",
    "reqText[:800] # printing just the first 800 chars for display convenience."
   ]
  },
  {
   "cell_type": "markdown",
   "metadata": {},
   "source": [
    "___________\n",
    "\n",
    "Same for *content* would be:  \n",
    "`reqContent = requests.get(url).content`  \n",
    "\n",
    "Or with the **`request`** module, which returns a `http.client.HTTPResponse` type:  \n",
    "`request.urlopen(url)`  \n",
    "--Notice this last instruction is not returning the content yet, nor the status as `requests.get(url)` directly does (it returns `<Response [200]>`).  \n",
    "You can get the status like this:  \n",
    "`>>> request.urlopen(url).code`  \n",
    "`200`  \n",
    "Also, we can use the `.peek()` function in an *Response* object to see just the initial part (similar to the slice we do above with `reqText`\n"
   ]
  },
  {
   "cell_type": "markdown",
   "metadata": {},
   "source": [
    "Back to **`requests`**. To **parse** the text, ***BeatifulSoup*** **`html.parser`** is used as it doesn't display certain text weirdly as `lxml` does sometimes (here it displays columns of certain chars for example).  "
   ]
  },
  {
   "cell_type": "code",
   "execution_count": 52,
   "metadata": {},
   "outputs": [
    {
     "name": "stdout",
     "output_type": "stream",
     "text": [
      "<class 'bs4.BeautifulSoup'>\n"
     ]
    }
   ],
   "source": [
    "soup = BeautifulSoup(reqText, 'html.parser')\n",
    "# soup\n",
    "print(type(soup))"
   ]
  },
  {
   "cell_type": "markdown",
   "metadata": {},
   "source": [
    "Then it is **prettified** with BeautifulSoup's **`.prettify()`** function, which only works when printed, not when displayed, and makes html much more distinguishable.  \n",
    "Note that I can't make:  \n",
    "`soup = BeautifulSoup(reqText, 'html.parser').prettify()`  \n",
    "as `soup.prettify` would return a *string* element, to which the .children attribute couldn't be applied later on.\n",
    "Priting a *string* allows me to slice the results for visualization purposes:"
   ]
  },
  {
   "cell_type": "code",
   "execution_count": 53,
   "metadata": {},
   "outputs": [
    {
     "name": "stdout",
     "output_type": "stream",
     "text": [
      "<!DOCTYPE doctype html>\n",
      "<html>\n",
      " <head>\n",
      "  <title>\n",
      "   inglés - Estadísticas de Google Académico\n",
      "  </title>\n",
      "  <meta content=\"text/html;charset=utf-8\" http-equiv=\"Content-Type\"/>\n",
      "  <meta content=\"IE=Edge\" http-equiv=\"X-UA-Compatible\"/>\n",
      "  <meta content=\"always\" name=\"referrer\"/>\n",
      "  <meta content=\"width=device-width,initial-scale=1,minimum-scale=1,maximum-scale=2\" name=\"viewport\"/>\n",
      "  <meta content=\"telephone=no\" name=\"format-detection\"/>\n",
      "  <style>\n",
      "   html,body,form,table,div,h1,h2,h3,h4,h5,h6,img,ol,ul,li,button{margin:0;padding:0;border:0;}table{border-collapse:collapse;border-width:0;empty-cells:show;}html,body{height:100%}#gs_top{position:relative;box-sizing:border-box;min-height:100%;min-width:964px;-webkit-tap-highlight-color:rgba(0,0,0,0);}#gs_top>*:not(#x){-webkit-tap-highlight-color:rgba(204,204,204,.5);}.gs_el_ph #gs_top,.gs_el_ta #gs_top{min-width:320px;}#gs_top.gs_nscl{position:fixed;width:100%;}body,td,input,button{font-size:13px;font-family:Arial,sans-serif;line-height:1.24;}body\n"
     ]
    }
   ],
   "source": [
    "print(soup.prettify()[:1000]) "
   ]
  },
  {
   "cell_type": "markdown",
   "metadata": {},
   "source": [
    "_____________\n",
    "\n",
    "\n",
    "**Beautifulsoup** permite hacer una **lista bs4** (es un objeto bs4.element.Tag) por cada etiqueta de código html. Así podemos seleccionar la **etiqueta html**, que es la segunda:"
   ]
  },
  {
   "cell_type": "code",
   "execution_count": 54,
   "metadata": {},
   "outputs": [
    {
     "name": "stdout",
     "output_type": "stream",
     "text": [
      "<html>\n",
      " <head>\n",
      "  <title>\n",
      "   inglés - Estadísticas de Google Académico\n",
      "  </title>\n",
      "  <meta content=\"text/html;charset=utf-8\" http-equiv=\"Content-Type\"/>\n",
      "  <meta content=\"IE=Edge\" http-equiv=\"X-UA-Compatible\"/>\n",
      "  <meta content=\"always\" name=\"referrer\"/>\n",
      "  <meta content=\"width=device-width,initial-scale=1,minimum-scale=1,maximum-scale=2\" name=\"viewport\"/>\n",
      "  <meta content=\"telephone=no\" name=\"format-detection\"/>\n",
      "  <style>\n",
      "   html,body,form,table,div,h1,h2,h3,h4,h5,h6,img,ol,ul,li,button{margin:0;padding:0;border:0;}table{border-collapse:collapse;border-width:0;empty-cells:show;}html,body{height:100%}#gs_top{position:relative;box-sizing:border-box;min-height:100%;min-width:964px;-webkit-tap-highlight-color:rgba(0,0,0,0);}#gs_top>*:not(#x){-webkit-tap-highlight-color:rgba(204,204,204,.5);}.gs_el_ph #gs_top,.gs_el_ta #gs_top{min-width:320px;}#gs_top.gs_nscl{position:fixed;width:100%;}body,td,input,button{font-size:13px;font-family:Arial,sans-serif;line-height:1.24;}body{background:#fff;color:#\n",
      "\n",
      "soup type: <class 'bs4.BeautifulSoup'>. html type: <class 'bs4.element.Tag'>\n"
     ]
    }
   ],
   "source": [
    "html = list(soup.children)[1]\n",
    "\n",
    "print(html.prettify()[:1000])\n",
    "# print(html.children.prettify()[:1000])\n",
    "# print(html.children)\n",
    "print('\\nsoup type: {}. html type: {}'.format(type(soup), type(html))) # uses new Python string formatting best practive"
   ]
  },
  {
   "cell_type": "markdown",
   "metadata": {},
   "source": [
    "__________________\n",
    "\n",
    "## Adquisition of data"
   ]
  },
  {
   "cell_type": "markdown",
   "metadata": {},
   "source": [
    "#### **Column by column method**"
   ]
  },
  {
   "cell_type": "markdown",
   "metadata": {},
   "source": [
    "**List of (top 100) journals**:"
   ]
  },
  {
   "cell_type": "markdown",
   "metadata": {},
   "source": [
    "We are going to select all elements of the class that incorporates the tittle, using `.select()` mainly.   \n",
    "`.select()` uses CSS selectors, is more efficient and returns a **list**, while `.find_all()` returns **bs4.element.ResultSet** type:"
   ]
  },
  {
   "cell_type": "code",
   "execution_count": 55,
   "metadata": {},
   "outputs": [
    {
     "data": {
      "text/plain": [
       "[<th class=\"gsc_mvt_t\">Publicación</th>,\n",
       " <td class=\"gsc_mvt_t\">Nature</td>,\n",
       " <td class=\"gsc_mvt_t\">The New England Journal of Medicine</td>,\n",
       " <td class=\"gsc_mvt_t\">Science</td>,\n",
       " <td class=\"gsc_mvt_t\">The Lancet</td>]"
      ]
     },
     "metadata": {},
     "output_type": "display_data"
    },
    {
     "data": {
      "text/plain": [
       "list"
      ]
     },
     "metadata": {},
     "output_type": "display_data"
    },
    {
     "data": {
      "text/plain": [
       "101"
      ]
     },
     "metadata": {},
     "output_type": "display_data"
    }
   ],
   "source": [
    "journalsHtml = html.select('.gsc_mvt_t') \n",
    "\n",
    "display(journalsHtml[:5], type(journalsHtml), len(journalsHtml)) # display (vs. print) lists each row in a new line"
   ]
  },
  {
   "cell_type": "markdown",
   "metadata": {},
   "source": [
    "If we want to restrict the class to the `<td>`, thus without the header `<th>`:"
   ]
  },
  {
   "cell_type": "code",
   "execution_count": 73,
   "metadata": {},
   "outputs": [
    {
     "data": {
      "text/plain": [
       "[<td class=\"gsc_mvt_t\">Nature</td>,\n",
       " <td class=\"gsc_mvt_t\">The New England Journal of Medicine</td>,\n",
       " <td class=\"gsc_mvt_t\">Science</td>,\n",
       " <td class=\"gsc_mvt_t\">The Lancet</td>,\n",
       " <td class=\"gsc_mvt_t\">Chemical Society reviews</td>]"
      ]
     },
     "metadata": {},
     "output_type": "display_data"
    },
    {
     "data": {
      "text/plain": [
       "list"
      ]
     },
     "metadata": {},
     "output_type": "display_data"
    },
    {
     "data": {
      "text/plain": [
       "100"
      ]
     },
     "metadata": {},
     "output_type": "display_data"
    }
   ],
   "source": [
    "journalsHtml = html.select('td.gsc_mvt_t')  # 'td +.gsc_mvt_t' would also work\n",
    "display(journalsHtml[:5], type(journalsHtml), len(journalsHtml)) "
   ]
  },
  {
   "cell_type": "markdown",
   "metadata": {},
   "source": [
    "The same with find_all:\n",
    "`journalsHtml = html.find_all('td', class_='gsc_mvt_t')`"
   ]
  },
  {
   "cell_type": "markdown",
   "metadata": {},
   "source": [
    "**List of h5 index**:"
   ]
  },
  {
   "cell_type": "markdown",
   "metadata": {},
   "source": [
    "`a[href^=\"/citations\"]` finds all href starting with '/citations'. Make sure to use double quotes \" \"\n",
    "Other options to remember are:\n",
    "`$=` - ending, \n",
    "`~=` - contains that word...). .   \n",
    "It finds that beneath the `tr` tag:"
   ]
  },
  {
   "cell_type": "code",
   "execution_count": 57,
   "metadata": {},
   "outputs": [
    {
     "name": "stdout",
     "output_type": "stream",
     "text": [
      "100\n"
     ]
    },
    {
     "data": {
      "text/plain": [
       "[<a class=\"gs_ibl gsc_mp_anchor\" href=\"/citations?hl=es&amp;oe=ASCII&amp;vq=en&amp;view_op=list_hcore&amp;venue=H--JoiVp8x8J.2018\">362</a>,\n",
       " <a class=\"gs_ibl gsc_mp_anchor\" href=\"/citations?hl=es&amp;oe=ASCII&amp;vq=en&amp;view_op=list_hcore&amp;venue=IKEvlTw-e8IJ.2018\">358</a>,\n",
       " <a class=\"gs_ibl gsc_mp_anchor\" href=\"/citations?hl=es&amp;oe=ASCII&amp;vq=en&amp;view_op=list_hcore&amp;venue=oY2eER5-jTUJ.2018\">345</a>,\n",
       " <a class=\"gs_ibl gsc_mp_anchor\" href=\"/citations?hl=es&amp;oe=ASCII&amp;vq=en&amp;view_op=list_hcore&amp;venue=dj7TIF9zE7gJ.2018\">278</a>,\n",
       " <a class=\"gs_ibl gsc_mp_anchor\" href=\"/citations?hl=es&amp;oe=ASCII&amp;vq=en&amp;view_op=list_hcore&amp;venue=UJChSoIuvTUJ.2018\">256</a>]"
      ]
     },
     "execution_count": 57,
     "metadata": {},
     "output_type": "execute_result"
    }
   ],
   "source": [
    "# h5indexHtml = html.find_all(class_='gsc_mvt_n')\n",
    "h5indexHtml = html.select('tr a[href^=\"/citations\"]')\n",
    "\n",
    "print(len(h5indexHtml))\n",
    "h5indexHtml[:5]"
   ]
  },
  {
   "cell_type": "markdown",
   "metadata": {},
   "source": [
    "#### Content extraction:"
   ]
  },
  {
   "cell_type": "markdown",
   "metadata": {},
   "source": [
    "**`.string`** or **`.get_text`** extracts the content of each line. It has to be applied to each **element content**, not to a a *list* (from select) or a *bs4.element.ResultSet* (from find_all):"
   ]
  },
  {
   "cell_type": "code",
   "execution_count": 75,
   "metadata": {},
   "outputs": [
    {
     "name": "stdout",
     "output_type": "stream",
     "text": [
      "Journal tittle: Nature. \n",
      "VarType: <class 'bs4.element.NavigableString'>\n"
     ]
    }
   ],
   "source": [
    "journal_1 = journalsHtml[0].string # test 1 journal\n",
    "print('Journal tittle: {}. \\nVarType: {}'.format(journal_1, type(journal_1)))"
   ]
  },
  {
   "cell_type": "code",
   "execution_count": null,
   "metadata": {},
   "outputs": [],
   "source": [
    "# journals= []\n",
    "# [journals.append(journal) for journal in journalsHtml[0].string]\n",
    "# print(journals[0:])\n",
    "# print('Journal tittle: {}. \\nVarType: {}'.format(journal, type(journal_1)))\n",
    "# journal_1 = journalsHtml[0].string # test 1 journal \n",
    "# print('Journal tittle: {}. \\nVarType: {}'.format(journal_1, type(journal_1)))\n"
   ]
  },
  {
   "cell_type": "markdown",
   "metadata": {},
   "source": [
    "We need **to apply it to a list/set**:"
   ]
  },
  {
   "cell_type": "code",
   "execution_count": 59,
   "metadata": {},
   "outputs": [
    {
     "data": {
      "text/plain": [
       "['Nature',\n",
       " 'The New England Journal of Medicine',\n",
       " 'Science',\n",
       " 'The Lancet',\n",
       " 'Chemical Society reviews',\n",
       " 'Cell']"
      ]
     },
     "execution_count": 59,
     "metadata": {},
     "output_type": "execute_result"
    }
   ],
   "source": [
    "#Beware: check which last journalsHtml is executed before this. \n",
    "lJournals = [journal.string for journal in journalsHtml]\n",
    "lJournals[:6]"
   ]
  },
  {
   "cell_type": "code",
   "execution_count": 60,
   "metadata": {},
   "outputs": [
    {
     "data": {
      "text/plain": [
       "['362', '358', '345', '278', '256', '244']"
      ]
     },
     "execution_count": 60,
     "metadata": {},
     "output_type": "execute_result"
    }
   ],
   "source": [
    "lH5indexes = [h5.string for h5 in h5indexHtml]\n",
    "lH5indexes[:6]"
   ]
  },
  {
   "cell_type": "code",
   "execution_count": 67,
   "metadata": {},
   "outputs": [
    {
     "name": "stdout",
     "output_type": "stream",
     "text": [
      "362\n"
     ]
    }
   ],
   "source": [
    "print(journalsHtml[1].string) # `"
   ]
  },
  {
   "cell_type": "markdown",
   "metadata": {},
   "source": [
    "But lets stop this line of work and explore another more direct approach, that might be worthier to pursue:"
   ]
  },
  {
   "cell_type": "markdown",
   "metadata": {},
   "source": [
    "#### **Selecting rows (more direct method)**:"
   ]
  },
  {
   "cell_type": "markdown",
   "metadata": {},
   "source": [
    "To extract all content in a row together:"
   ]
  },
  {
   "cell_type": "code",
   "execution_count": 62,
   "metadata": {},
   "outputs": [
    {
     "data": {
      "text/plain": [
       "[<tr><th class=\"gsc_mvt_p\"></th><th class=\"gsc_mvt_t\">Publicación</th><th class=\"gsc_mvt_n\"><a class=\"gsc_mp_anchor gsc_mp_tgh\" data-tg=\"gsc_mphm_hidx\" href=\"javascript:void(0)\">Índice h5</a></th><th class=\"gsc_mvt_n\"><a class=\"gsc_mp_anchor gsc_mp_tgh\" data-tg=\"gsc_mphm_hmed\" href=\"javascript:void(0)\">Mediana h5</a></th></tr>,\n",
       " <tr><td class=\"gsc_mvt_p\">1.</td><td class=\"gsc_mvt_t\">Nature</td><td class=\"gsc_mvt_n\"><a class=\"gs_ibl gsc_mp_anchor\" href=\"/citations?hl=es&amp;oe=ASCII&amp;vq=en&amp;view_op=list_hcore&amp;venue=H--JoiVp8x8J.2018\">362</a></td><td class=\"gsc_mvt_n\"><span class=\"gs_ibl gsc_mp_anchor\">542</span></td></tr>,\n",
       " <tr><td class=\"gsc_mvt_p\">2.</td><td class=\"gsc_mvt_t\">The New England Journal of Medicine</td><td class=\"gsc_mvt_n\"><a class=\"gs_ibl gsc_mp_anchor\" href=\"/citations?hl=es&amp;oe=ASCII&amp;vq=en&amp;view_op=list_hcore&amp;venue=IKEvlTw-e8IJ.2018\">358</a></td><td class=\"gsc_mvt_n\"><span class=\"gs_ibl gsc_mp_anchor\">602</span></td></tr>]"
      ]
     },
     "metadata": {},
     "output_type": "display_data"
    },
    {
     "name": "stdout",
     "output_type": "stream",
     "text": [
      "\n",
      "\n"
     ]
    },
    {
     "data": {
      "text/plain": [
       "[['PublicaciónÍndice h5Mediana h5'],\n",
       " ['1.Nature362542'],\n",
       " ['2.The New England Journal of Medicine358602'],\n",
       " ['3.Science345497'],\n",
       " ['4.The Lancet278417'],\n",
       " ['5.Chemical Society reviews256366']]"
      ]
     },
     "metadata": {},
     "output_type": "display_data"
    }
   ],
   "source": [
    "rowsHtml = html.select('tr')\n",
    "display(rowsHtml[:3])\n",
    "rows = [row.text.split(\"/n\") for row in rowsHtml] # \\n splits each paragraph (you can see that the html above shows each row in a paragraph)\n",
    "# you might want to use `.strip()` in this step.\n",
    "print('\\n')\n",
    "display(rows[:6])"
   ]
  },
  {
   "cell_type": "markdown",
   "metadata": {},
   "source": [
    "Separate the 4 elements inside each list:"
   ]
  },
  {
   "cell_type": "code",
   "execution_count": 63,
   "metadata": {},
   "outputs": [],
   "source": [
    "# Discarded test:\n",
    "# for row in rows[1:3]: \n",
    "# #     print(row)\n",
    "#     dotIndex = str(row).index('.')\n",
    "# #     print(dotIndex)\n",
    "#     print(col1[i].append(str(row)[2:dotIndex+1]))\n",
    "#     i+=1\n",
    "#     print(col1)\n",
    "# col1"
   ]
  },
  {
   "cell_type": "markdown",
   "metadata": {},
   "source": [
    "Convert to **data frame**, separating the head from the data:"
   ]
  },
  {
   "cell_type": "code",
   "execution_count": 64,
   "metadata": {},
   "outputs": [
    {
     "data": {
      "text/html": [
       "<div>\n",
       "<style scoped>\n",
       "    .dataframe tbody tr th:only-of-type {\n",
       "        vertical-align: middle;\n",
       "    }\n",
       "\n",
       "    .dataframe tbody tr th {\n",
       "        vertical-align: top;\n",
       "    }\n",
       "\n",
       "    .dataframe thead th {\n",
       "        text-align: right;\n",
       "    }\n",
       "</style>\n",
       "<table border=\"1\" class=\"dataframe\">\n",
       "  <thead>\n",
       "    <tr style=\"text-align: right;\">\n",
       "      <th></th>\n",
       "      <th>PublicaciónÍndice h5Mediana h5</th>\n",
       "    </tr>\n",
       "  </thead>\n",
       "  <tbody>\n",
       "    <tr>\n",
       "      <th>0</th>\n",
       "      <td>1.Nature362542</td>\n",
       "    </tr>\n",
       "    <tr>\n",
       "      <th>1</th>\n",
       "      <td>2.The New England Journal of Medicine358602</td>\n",
       "    </tr>\n",
       "    <tr>\n",
       "      <th>2</th>\n",
       "      <td>3.Science345497</td>\n",
       "    </tr>\n",
       "    <tr>\n",
       "      <th>3</th>\n",
       "      <td>4.The Lancet278417</td>\n",
       "    </tr>\n",
       "    <tr>\n",
       "      <th>4</th>\n",
       "      <td>5.Chemical Society reviews256366</td>\n",
       "    </tr>\n",
       "    <tr>\n",
       "      <th>5</th>\n",
       "      <td>6.Cell244366</td>\n",
       "    </tr>\n",
       "    <tr>\n",
       "      <th>6</th>\n",
       "      <td>7.Nature Communications240318</td>\n",
       "    </tr>\n",
       "    <tr>\n",
       "      <th>7</th>\n",
       "      <td>8.Chemical Reviews239373</td>\n",
       "    </tr>\n",
       "    <tr>\n",
       "      <th>8</th>\n",
       "      <td>9.Journal of the American Chemical Society236309</td>\n",
       "    </tr>\n",
       "    <tr>\n",
       "      <th>9</th>\n",
       "      <td>10.Advanced Materials235336</td>\n",
       "    </tr>\n",
       "    <tr>\n",
       "      <th>10</th>\n",
       "      <td>11.Proceedings of the National Academy of Scie...</td>\n",
       "    </tr>\n",
       "    <tr>\n",
       "      <th>11</th>\n",
       "      <td>12.Angewandte Chemie International Edition213295</td>\n",
       "    </tr>\n",
       "    <tr>\n",
       "      <th>12</th>\n",
       "      <td>13.JAMA209309</td>\n",
       "    </tr>\n",
       "    <tr>\n",
       "      <th>13</th>\n",
       "      <td>14.Nucleic Acids Research208392</td>\n",
       "    </tr>\n",
       "    <tr>\n",
       "      <th>14</th>\n",
       "      <td>15.ACS Nano199279</td>\n",
       "    </tr>\n",
       "    <tr>\n",
       "      <th>15</th>\n",
       "      <td>16.Physical Review Letters197286</td>\n",
       "    </tr>\n",
       "    <tr>\n",
       "      <th>16</th>\n",
       "      <td>17.Energy and Environmental Science196330</td>\n",
       "    </tr>\n",
       "    <tr>\n",
       "      <th>17</th>\n",
       "      <td>18.Journal of Clinical Oncology196279</td>\n",
       "    </tr>\n",
       "    <tr>\n",
       "      <th>18</th>\n",
       "      <td>19.Nano Letters194281</td>\n",
       "    </tr>\n",
       "    <tr>\n",
       "      <th>19</th>\n",
       "      <td>20.IEEE Conference on Computer Vision and Patt...</td>\n",
       "    </tr>\n",
       "    <tr>\n",
       "      <th>20</th>\n",
       "      <td>21.Nature Genetics187277</td>\n",
       "    </tr>\n",
       "    <tr>\n",
       "      <th>21</th>\n",
       "      <td>22.Journal of the American College of Cardiolo...</td>\n",
       "    </tr>\n",
       "    <tr>\n",
       "      <th>22</th>\n",
       "      <td>23.PLoS ONE180229</td>\n",
       "    </tr>\n",
       "    <tr>\n",
       "      <th>23</th>\n",
       "      <td>24.The Lancet Oncology179283</td>\n",
       "    </tr>\n",
       "    <tr>\n",
       "      <th>24</th>\n",
       "      <td>25.Nature Materials178314</td>\n",
       "    </tr>\n",
       "    <tr>\n",
       "      <th>25</th>\n",
       "      <td>26.Nature Medicine168266</td>\n",
       "    </tr>\n",
       "    <tr>\n",
       "      <th>26</th>\n",
       "      <td>27.Circulation166251</td>\n",
       "    </tr>\n",
       "    <tr>\n",
       "      <th>27</th>\n",
       "      <td>28.Accounts of Chemical Research165236</td>\n",
       "    </tr>\n",
       "    <tr>\n",
       "      <th>28</th>\n",
       "      <td>29.The Astrophysical Journal163222</td>\n",
       "    </tr>\n",
       "    <tr>\n",
       "      <th>29</th>\n",
       "      <td>30.Journal of High Energy Physics161226</td>\n",
       "    </tr>\n",
       "    <tr>\n",
       "      <th>...</th>\n",
       "      <td>...</td>\n",
       "    </tr>\n",
       "    <tr>\n",
       "      <th>70</th>\n",
       "      <td>71.Cell Metabolism127176</td>\n",
       "    </tr>\n",
       "    <tr>\n",
       "      <th>71</th>\n",
       "      <td>72.IEEE Transactions on Industrial Electronics...</td>\n",
       "    </tr>\n",
       "    <tr>\n",
       "      <th>72</th>\n",
       "      <td>73.IEEE Transactions on Power Electronics127168</td>\n",
       "    </tr>\n",
       "    <tr>\n",
       "      <th>73</th>\n",
       "      <td>74.IEEE Communications Surveys &amp; Tutorials126221</td>\n",
       "    </tr>\n",
       "    <tr>\n",
       "      <th>74</th>\n",
       "      <td>75.The Journal of Physical Chemistry Letters12...</td>\n",
       "    </tr>\n",
       "    <tr>\n",
       "      <th>75</th>\n",
       "      <td>76.The Lancet Neurology125192</td>\n",
       "    </tr>\n",
       "    <tr>\n",
       "      <th>76</th>\n",
       "      <td>77.Environmental Science &amp; Technology125165</td>\n",
       "    </tr>\n",
       "    <tr>\n",
       "      <th>77</th>\n",
       "      <td>78.IEEE International Conference on Computer V...</td>\n",
       "    </tr>\n",
       "    <tr>\n",
       "      <th>78</th>\n",
       "      <td>79.Chemistry of Materials124170</td>\n",
       "    </tr>\n",
       "    <tr>\n",
       "      <th>79</th>\n",
       "      <td>80.Gut124168</td>\n",
       "    </tr>\n",
       "    <tr>\n",
       "      <th>80</th>\n",
       "      <td>81.'Nature Reviews Neuroscience\"123200</td>\n",
       "    </tr>\n",
       "    <tr>\n",
       "      <th>81</th>\n",
       "      <td>82.European Urology122190</td>\n",
       "    </tr>\n",
       "    <tr>\n",
       "      <th>82</th>\n",
       "      <td>83.Annals of Oncology122185</td>\n",
       "    </tr>\n",
       "    <tr>\n",
       "      <th>83</th>\n",
       "      <td>84.Nature Chemistry122181</td>\n",
       "    </tr>\n",
       "    <tr>\n",
       "      <th>84</th>\n",
       "      <td>85.Biomaterials122149</td>\n",
       "    </tr>\n",
       "    <tr>\n",
       "      <th>85</th>\n",
       "      <td>86.Clinical Cancer Research121165</td>\n",
       "    </tr>\n",
       "    <tr>\n",
       "      <th>86</th>\n",
       "      <td>87.NeuroImage120164</td>\n",
       "    </tr>\n",
       "    <tr>\n",
       "      <th>87</th>\n",
       "      <td>88.IEEE Communications Magazine119211</td>\n",
       "    </tr>\n",
       "    <tr>\n",
       "      <th>88</th>\n",
       "      <td>89.Cancer Cell119204</td>\n",
       "    </tr>\n",
       "    <tr>\n",
       "      <th>89</th>\n",
       "      <td>90.Annals of the Rheumatic Diseases119170</td>\n",
       "    </tr>\n",
       "    <tr>\n",
       "      <th>90</th>\n",
       "      <td>91.Applied Energy119156</td>\n",
       "    </tr>\n",
       "    <tr>\n",
       "      <th>91</th>\n",
       "      <td>92.IEEE Transactions on Pattern Analysis and M...</td>\n",
       "    </tr>\n",
       "    <tr>\n",
       "      <th>92</th>\n",
       "      <td>93.Journal of Allergy and Clinical Immunology1...</td>\n",
       "    </tr>\n",
       "    <tr>\n",
       "      <th>93</th>\n",
       "      <td>94.Pediatrics117163</td>\n",
       "    </tr>\n",
       "    <tr>\n",
       "      <th>94</th>\n",
       "      <td>95.Journal of Cleaner Production117160</td>\n",
       "    </tr>\n",
       "    <tr>\n",
       "      <th>95</th>\n",
       "      <td>96.ACS Catalysis117158</td>\n",
       "    </tr>\n",
       "    <tr>\n",
       "      <th>96</th>\n",
       "      <td>97.Nature Reviews. Drug Discovery116228</td>\n",
       "    </tr>\n",
       "    <tr>\n",
       "      <th>97</th>\n",
       "      <td>98.Obstetrical &amp; Gynecological Survey116224</td>\n",
       "    </tr>\n",
       "    <tr>\n",
       "      <th>98</th>\n",
       "      <td>99.Circulation Research116177</td>\n",
       "    </tr>\n",
       "    <tr>\n",
       "      <th>99</th>\n",
       "      <td>100.Journal of Hepatology116155</td>\n",
       "    </tr>\n",
       "  </tbody>\n",
       "</table>\n",
       "<p>100 rows × 1 columns</p>\n",
       "</div>"
      ],
      "text/plain": [
       "                       PublicaciónÍndice h5Mediana h5\n",
       "0                                      1.Nature362542\n",
       "1         2.The New England Journal of Medicine358602\n",
       "2                                     3.Science345497\n",
       "3                                  4.The Lancet278417\n",
       "4                    5.Chemical Society reviews256366\n",
       "5                                        6.Cell244366\n",
       "6                       7.Nature Communications240318\n",
       "7                            8.Chemical Reviews239373\n",
       "8    9.Journal of the American Chemical Society236309\n",
       "9                         10.Advanced Materials235336\n",
       "10  11.Proceedings of the National Academy of Scie...\n",
       "11   12.Angewandte Chemie International Edition213295\n",
       "12                                      13.JAMA209309\n",
       "13                    14.Nucleic Acids Research208392\n",
       "14                                  15.ACS Nano199279\n",
       "15                   16.Physical Review Letters197286\n",
       "16          17.Energy and Environmental Science196330\n",
       "17              18.Journal of Clinical Oncology196279\n",
       "18                              19.Nano Letters194281\n",
       "19  20.IEEE Conference on Computer Vision and Patt...\n",
       "20                           21.Nature Genetics187277\n",
       "21  22.Journal of the American College of Cardiolo...\n",
       "22                                  23.PLoS ONE180229\n",
       "23                       24.The Lancet Oncology179283\n",
       "24                          25.Nature Materials178314\n",
       "25                           26.Nature Medicine168266\n",
       "26                               27.Circulation166251\n",
       "27             28.Accounts of Chemical Research165236\n",
       "28                 29.The Astrophysical Journal163222\n",
       "29            30.Journal of High Energy Physics161226\n",
       "..                                                ...\n",
       "70                           71.Cell Metabolism127176\n",
       "71  72.IEEE Transactions on Industrial Electronics...\n",
       "72    73.IEEE Transactions on Power Electronics127168\n",
       "73   74.IEEE Communications Surveys & Tutorials126221\n",
       "74  75.The Journal of Physical Chemistry Letters12...\n",
       "75                      76.The Lancet Neurology125192\n",
       "76        77.Environmental Science & Technology125165\n",
       "77  78.IEEE International Conference on Computer V...\n",
       "78                    79.Chemistry of Materials124170\n",
       "79                                       80.Gut124168\n",
       "80             81.'Nature Reviews Neuroscience\"123200\n",
       "81                          82.European Urology122190\n",
       "82                        83.Annals of Oncology122185\n",
       "83                          84.Nature Chemistry122181\n",
       "84                              85.Biomaterials122149\n",
       "85                  86.Clinical Cancer Research121165\n",
       "86                                87.NeuroImage120164\n",
       "87              88.IEEE Communications Magazine119211\n",
       "88                               89.Cancer Cell119204\n",
       "89          90.Annals of the Rheumatic Diseases119170\n",
       "90                            91.Applied Energy119156\n",
       "91  92.IEEE Transactions on Pattern Analysis and M...\n",
       "92  93.Journal of Allergy and Clinical Immunology1...\n",
       "93                                94.Pediatrics117163\n",
       "94             95.Journal of Cleaner Production117160\n",
       "95                             96.ACS Catalysis117158\n",
       "96            97.Nature Reviews. Drug Discovery116228\n",
       "97        98.Obstetrical & Gynecological Survey116224\n",
       "98                      99.Circulation Research116177\n",
       "99                    100.Journal of Hepatology116155\n",
       "\n",
       "[100 rows x 1 columns]"
      ]
     },
     "execution_count": 64,
     "metadata": {},
     "output_type": "execute_result"
    }
   ],
   "source": [
    "colnames = rows[0]\n",
    "data = rows[1:]\n",
    "\n",
    "df = pd.DataFrame(data, columns=colnames)\n",
    "df"
   ]
  },
  {
   "cell_type": "code",
   "execution_count": 65,
   "metadata": {},
   "outputs": [
    {
     "name": "stdout",
     "output_type": "stream",
     "text": [
      "542\n",
      "<class 'bs4.element.ResultSet'>\n",
      "<class 'bs4.element.Tag'>\n"
     ]
    }
   ],
   "source": [
    "# # Código dividido por pasos \n",
    "# journalsHtml = html.find_all('td')\n",
    "# # len(journals)\n",
    "# # print(journalsHtml)\n",
    "# print(journalsHtml[3].string) # `\n",
    "# print(type(journalsHtml))\n",
    "# print(type(journalsHtml[0]))"
   ]
  },
  {
   "cell_type": "markdown",
   "metadata": {},
   "source": [
    "Get a Pandas **Dataframe**:"
   ]
  },
  {
   "cell_type": "code",
   "execution_count": 66,
   "metadata": {},
   "outputs": [
    {
     "data": {
      "text/html": [
       "<div>\n",
       "<style scoped>\n",
       "    .dataframe tbody tr th:only-of-type {\n",
       "        vertical-align: middle;\n",
       "    }\n",
       "\n",
       "    .dataframe tbody tr th {\n",
       "        vertical-align: top;\n",
       "    }\n",
       "\n",
       "    .dataframe thead th {\n",
       "        text-align: right;\n",
       "    }\n",
       "</style>\n",
       "<table border=\"1\" class=\"dataframe\">\n",
       "  <thead>\n",
       "    <tr style=\"text-align: right;\">\n",
       "      <th></th>\n",
       "      <th>Journal</th>\n",
       "      <th>h5index</th>\n",
       "    </tr>\n",
       "  </thead>\n",
       "  <tbody>\n",
       "    <tr>\n",
       "      <th>0</th>\n",
       "      <td>Nature</td>\n",
       "      <td>362</td>\n",
       "    </tr>\n",
       "    <tr>\n",
       "      <th>1</th>\n",
       "      <td>The New England Journal of Medicine</td>\n",
       "      <td>358</td>\n",
       "    </tr>\n",
       "    <tr>\n",
       "      <th>2</th>\n",
       "      <td>Science</td>\n",
       "      <td>345</td>\n",
       "    </tr>\n",
       "    <tr>\n",
       "      <th>3</th>\n",
       "      <td>The Lancet</td>\n",
       "      <td>278</td>\n",
       "    </tr>\n",
       "    <tr>\n",
       "      <th>4</th>\n",
       "      <td>Chemical Society reviews</td>\n",
       "      <td>256</td>\n",
       "    </tr>\n",
       "    <tr>\n",
       "      <th>5</th>\n",
       "      <td>Cell</td>\n",
       "      <td>244</td>\n",
       "    </tr>\n",
       "    <tr>\n",
       "      <th>6</th>\n",
       "      <td>Nature Communications</td>\n",
       "      <td>240</td>\n",
       "    </tr>\n",
       "    <tr>\n",
       "      <th>7</th>\n",
       "      <td>Chemical Reviews</td>\n",
       "      <td>239</td>\n",
       "    </tr>\n",
       "    <tr>\n",
       "      <th>8</th>\n",
       "      <td>Journal of the American Chemical Society</td>\n",
       "      <td>236</td>\n",
       "    </tr>\n",
       "    <tr>\n",
       "      <th>9</th>\n",
       "      <td>Advanced Materials</td>\n",
       "      <td>235</td>\n",
       "    </tr>\n",
       "    <tr>\n",
       "      <th>10</th>\n",
       "      <td>Proceedings of the National Academy of Sciences</td>\n",
       "      <td>226</td>\n",
       "    </tr>\n",
       "    <tr>\n",
       "      <th>11</th>\n",
       "      <td>Angewandte Chemie International Edition</td>\n",
       "      <td>213</td>\n",
       "    </tr>\n",
       "    <tr>\n",
       "      <th>12</th>\n",
       "      <td>JAMA</td>\n",
       "      <td>209</td>\n",
       "    </tr>\n",
       "    <tr>\n",
       "      <th>13</th>\n",
       "      <td>Nucleic Acids Research</td>\n",
       "      <td>208</td>\n",
       "    </tr>\n",
       "    <tr>\n",
       "      <th>14</th>\n",
       "      <td>ACS Nano</td>\n",
       "      <td>199</td>\n",
       "    </tr>\n",
       "    <tr>\n",
       "      <th>15</th>\n",
       "      <td>Physical Review Letters</td>\n",
       "      <td>197</td>\n",
       "    </tr>\n",
       "    <tr>\n",
       "      <th>16</th>\n",
       "      <td>Energy and Environmental Science</td>\n",
       "      <td>196</td>\n",
       "    </tr>\n",
       "    <tr>\n",
       "      <th>17</th>\n",
       "      <td>Journal of Clinical Oncology</td>\n",
       "      <td>196</td>\n",
       "    </tr>\n",
       "    <tr>\n",
       "      <th>18</th>\n",
       "      <td>Nano Letters</td>\n",
       "      <td>194</td>\n",
       "    </tr>\n",
       "    <tr>\n",
       "      <th>19</th>\n",
       "      <td>IEEE Conference on Computer Vision and Pattern...</td>\n",
       "      <td>188</td>\n",
       "    </tr>\n",
       "    <tr>\n",
       "      <th>20</th>\n",
       "      <td>Nature Genetics</td>\n",
       "      <td>187</td>\n",
       "    </tr>\n",
       "    <tr>\n",
       "      <th>21</th>\n",
       "      <td>Journal of the American College of Cardiology</td>\n",
       "      <td>180</td>\n",
       "    </tr>\n",
       "    <tr>\n",
       "      <th>22</th>\n",
       "      <td>PLoS ONE</td>\n",
       "      <td>180</td>\n",
       "    </tr>\n",
       "    <tr>\n",
       "      <th>23</th>\n",
       "      <td>The Lancet Oncology</td>\n",
       "      <td>179</td>\n",
       "    </tr>\n",
       "    <tr>\n",
       "      <th>24</th>\n",
       "      <td>Nature Materials</td>\n",
       "      <td>178</td>\n",
       "    </tr>\n",
       "    <tr>\n",
       "      <th>25</th>\n",
       "      <td>Nature Medicine</td>\n",
       "      <td>168</td>\n",
       "    </tr>\n",
       "    <tr>\n",
       "      <th>26</th>\n",
       "      <td>Circulation</td>\n",
       "      <td>166</td>\n",
       "    </tr>\n",
       "    <tr>\n",
       "      <th>27</th>\n",
       "      <td>Accounts of Chemical Research</td>\n",
       "      <td>165</td>\n",
       "    </tr>\n",
       "    <tr>\n",
       "      <th>28</th>\n",
       "      <td>The Astrophysical Journal</td>\n",
       "      <td>163</td>\n",
       "    </tr>\n",
       "    <tr>\n",
       "      <th>29</th>\n",
       "      <td>Journal of High Energy Physics</td>\n",
       "      <td>161</td>\n",
       "    </tr>\n",
       "    <tr>\n",
       "      <th>...</th>\n",
       "      <td>...</td>\n",
       "      <td>...</td>\n",
       "    </tr>\n",
       "    <tr>\n",
       "      <th>70</th>\n",
       "      <td>Cell Metabolism</td>\n",
       "      <td>127</td>\n",
       "    </tr>\n",
       "    <tr>\n",
       "      <th>71</th>\n",
       "      <td>IEEE Transactions on Industrial Electronics</td>\n",
       "      <td>127</td>\n",
       "    </tr>\n",
       "    <tr>\n",
       "      <th>72</th>\n",
       "      <td>IEEE Transactions on Power Electronics</td>\n",
       "      <td>127</td>\n",
       "    </tr>\n",
       "    <tr>\n",
       "      <th>73</th>\n",
       "      <td>IEEE Communications Surveys &amp; Tutorials</td>\n",
       "      <td>126</td>\n",
       "    </tr>\n",
       "    <tr>\n",
       "      <th>74</th>\n",
       "      <td>The Journal of Physical Chemistry Letters</td>\n",
       "      <td>126</td>\n",
       "    </tr>\n",
       "    <tr>\n",
       "      <th>75</th>\n",
       "      <td>The Lancet Neurology</td>\n",
       "      <td>125</td>\n",
       "    </tr>\n",
       "    <tr>\n",
       "      <th>76</th>\n",
       "      <td>Environmental Science &amp; Technology</td>\n",
       "      <td>125</td>\n",
       "    </tr>\n",
       "    <tr>\n",
       "      <th>77</th>\n",
       "      <td>IEEE International Conference on Computer Vision</td>\n",
       "      <td>124</td>\n",
       "    </tr>\n",
       "    <tr>\n",
       "      <th>78</th>\n",
       "      <td>Chemistry of Materials</td>\n",
       "      <td>124</td>\n",
       "    </tr>\n",
       "    <tr>\n",
       "      <th>79</th>\n",
       "      <td>Gut</td>\n",
       "      <td>124</td>\n",
       "    </tr>\n",
       "    <tr>\n",
       "      <th>80</th>\n",
       "      <td>'Nature Reviews Neuroscience\"</td>\n",
       "      <td>123</td>\n",
       "    </tr>\n",
       "    <tr>\n",
       "      <th>81</th>\n",
       "      <td>European Urology</td>\n",
       "      <td>122</td>\n",
       "    </tr>\n",
       "    <tr>\n",
       "      <th>82</th>\n",
       "      <td>Annals of Oncology</td>\n",
       "      <td>122</td>\n",
       "    </tr>\n",
       "    <tr>\n",
       "      <th>83</th>\n",
       "      <td>Nature Chemistry</td>\n",
       "      <td>122</td>\n",
       "    </tr>\n",
       "    <tr>\n",
       "      <th>84</th>\n",
       "      <td>Biomaterials</td>\n",
       "      <td>122</td>\n",
       "    </tr>\n",
       "    <tr>\n",
       "      <th>85</th>\n",
       "      <td>Clinical Cancer Research</td>\n",
       "      <td>121</td>\n",
       "    </tr>\n",
       "    <tr>\n",
       "      <th>86</th>\n",
       "      <td>NeuroImage</td>\n",
       "      <td>120</td>\n",
       "    </tr>\n",
       "    <tr>\n",
       "      <th>87</th>\n",
       "      <td>IEEE Communications Magazine</td>\n",
       "      <td>119</td>\n",
       "    </tr>\n",
       "    <tr>\n",
       "      <th>88</th>\n",
       "      <td>Cancer Cell</td>\n",
       "      <td>119</td>\n",
       "    </tr>\n",
       "    <tr>\n",
       "      <th>89</th>\n",
       "      <td>Annals of the Rheumatic Diseases</td>\n",
       "      <td>119</td>\n",
       "    </tr>\n",
       "    <tr>\n",
       "      <th>90</th>\n",
       "      <td>Applied Energy</td>\n",
       "      <td>119</td>\n",
       "    </tr>\n",
       "    <tr>\n",
       "      <th>91</th>\n",
       "      <td>IEEE Transactions on Pattern Analysis and Mach...</td>\n",
       "      <td>118</td>\n",
       "    </tr>\n",
       "    <tr>\n",
       "      <th>92</th>\n",
       "      <td>Journal of Allergy and Clinical Immunology</td>\n",
       "      <td>118</td>\n",
       "    </tr>\n",
       "    <tr>\n",
       "      <th>93</th>\n",
       "      <td>Pediatrics</td>\n",
       "      <td>117</td>\n",
       "    </tr>\n",
       "    <tr>\n",
       "      <th>94</th>\n",
       "      <td>Journal of Cleaner Production</td>\n",
       "      <td>117</td>\n",
       "    </tr>\n",
       "    <tr>\n",
       "      <th>95</th>\n",
       "      <td>ACS Catalysis</td>\n",
       "      <td>117</td>\n",
       "    </tr>\n",
       "    <tr>\n",
       "      <th>96</th>\n",
       "      <td>Nature Reviews. Drug Discovery</td>\n",
       "      <td>116</td>\n",
       "    </tr>\n",
       "    <tr>\n",
       "      <th>97</th>\n",
       "      <td>Obstetrical &amp; Gynecological Survey</td>\n",
       "      <td>116</td>\n",
       "    </tr>\n",
       "    <tr>\n",
       "      <th>98</th>\n",
       "      <td>Circulation Research</td>\n",
       "      <td>116</td>\n",
       "    </tr>\n",
       "    <tr>\n",
       "      <th>99</th>\n",
       "      <td>Journal of Hepatology</td>\n",
       "      <td>116</td>\n",
       "    </tr>\n",
       "  </tbody>\n",
       "</table>\n",
       "<p>100 rows × 2 columns</p>\n",
       "</div>"
      ],
      "text/plain": [
       "                                              Journal h5index\n",
       "0                                              Nature     362\n",
       "1                 The New England Journal of Medicine     358\n",
       "2                                             Science     345\n",
       "3                                          The Lancet     278\n",
       "4                            Chemical Society reviews     256\n",
       "5                                                Cell     244\n",
       "6                               Nature Communications     240\n",
       "7                                    Chemical Reviews     239\n",
       "8            Journal of the American Chemical Society     236\n",
       "9                                  Advanced Materials     235\n",
       "10    Proceedings of the National Academy of Sciences     226\n",
       "11            Angewandte Chemie International Edition     213\n",
       "12                                               JAMA     209\n",
       "13                             Nucleic Acids Research     208\n",
       "14                                           ACS Nano     199\n",
       "15                            Physical Review Letters     197\n",
       "16                   Energy and Environmental Science     196\n",
       "17                       Journal of Clinical Oncology     196\n",
       "18                                       Nano Letters     194\n",
       "19  IEEE Conference on Computer Vision and Pattern...     188\n",
       "20                                    Nature Genetics     187\n",
       "21      Journal of the American College of Cardiology     180\n",
       "22                                           PLoS ONE     180\n",
       "23                                The Lancet Oncology     179\n",
       "24                                   Nature Materials     178\n",
       "25                                    Nature Medicine     168\n",
       "26                                        Circulation     166\n",
       "27                      Accounts of Chemical Research     165\n",
       "28                          The Astrophysical Journal     163\n",
       "29                     Journal of High Energy Physics     161\n",
       "..                                                ...     ...\n",
       "70                                    Cell Metabolism     127\n",
       "71        IEEE Transactions on Industrial Electronics     127\n",
       "72             IEEE Transactions on Power Electronics     127\n",
       "73            IEEE Communications Surveys & Tutorials     126\n",
       "74          The Journal of Physical Chemistry Letters     126\n",
       "75                               The Lancet Neurology     125\n",
       "76                 Environmental Science & Technology     125\n",
       "77   IEEE International Conference on Computer Vision     124\n",
       "78                             Chemistry of Materials     124\n",
       "79                                                Gut     124\n",
       "80                      'Nature Reviews Neuroscience\"     123\n",
       "81                                   European Urology     122\n",
       "82                                 Annals of Oncology     122\n",
       "83                                   Nature Chemistry     122\n",
       "84                                       Biomaterials     122\n",
       "85                           Clinical Cancer Research     121\n",
       "86                                         NeuroImage     120\n",
       "87                       IEEE Communications Magazine     119\n",
       "88                                        Cancer Cell     119\n",
       "89                   Annals of the Rheumatic Diseases     119\n",
       "90                                     Applied Energy     119\n",
       "91  IEEE Transactions on Pattern Analysis and Mach...     118\n",
       "92         Journal of Allergy and Clinical Immunology     118\n",
       "93                                         Pediatrics     117\n",
       "94                      Journal of Cleaner Production     117\n",
       "95                                      ACS Catalysis     117\n",
       "96                     Nature Reviews. Drug Discovery     116\n",
       "97                 Obstetrical & Gynecological Survey     116\n",
       "98                               Circulation Research     116\n",
       "99                              Journal of Hepatology     116\n",
       "\n",
       "[100 rows x 2 columns]"
      ]
     },
     "execution_count": 66,
     "metadata": {},
     "output_type": "execute_result"
    }
   ],
   "source": [
    "dfMainJour = pd.DataFrame({\n",
    "    \"Journal\": lJournals,\n",
    "    \"h5index\": lH5indexes\n",
    "})\n",
    "dfMainJour"
   ]
  },
  {
   "cell_type": "code",
   "execution_count": null,
   "metadata": {},
   "outputs": [],
   "source": []
  }
 ],
 "metadata": {
  "kernelspec": {
   "display_name": "Python 3",
   "language": "python",
   "name": "python3"
  },
  "language_info": {
   "codemirror_mode": {
    "name": "ipython",
    "version": 3
   },
   "file_extension": ".py",
   "mimetype": "text/x-python",
   "name": "python",
   "nbconvert_exporter": "python",
   "pygments_lexer": "ipython3",
   "version": "3.6.6"
  }
 },
 "nbformat": 4,
 "nbformat_minor": 2
}

{
 "cells": [
  {
   "cell_type": "markdown",
   "metadata": {},
   "source": [
    "# Web Project API 1"
   ]
  },
  {
   "cell_type": "markdown",
   "metadata": {},
   "source": [
    "* Make calls to your choysen API and successfully obtain a response, \n",
    "* Request data, convert it into a Pandas data frame, and export it as a CSV file. "
   ]
  },
  {
   "cell_type": "markdown",
   "metadata": {},
   "source": [
    "### https://share.osf.io/\n",
    "    "
   ]
  },
  {
   "cell_type": "code",
   "execution_count": 4,
   "metadata": {},
   "outputs": [],
   "source": [
    "import requests, json, urllib3, pandas as pd"
   ]
  },
  {
   "cell_type": "code",
   "execution_count": 16,
   "metadata": {},
   "outputs": [],
   "source": [
    "from pandas.io.json import json_normalize"
   ]
  },
  {
   "cell_type": "code",
   "execution_count": 5,
   "metadata": {},
   "outputs": [
    {
     "data": {
      "text/plain": [
       "<Response [200]>"
      ]
     },
     "execution_count": 5,
     "metadata": {},
     "output_type": "execute_result"
    }
   ],
   "source": [
    "r = requests.get('https://share.osf.io/api/v2/')\n",
    "r"
   ]
  },
  {
   "cell_type": "code",
   "execution_count": 6,
   "metadata": {},
   "outputs": [
    {
     "name": "stdout",
     "output_type": "stream",
     "text": [
      "{\"data\":{\"site_banners\":\"https://share.osf.io/api/v2/site_banners/\",\"normalizeddata\":\"https://share.osf.io/api/v2/normalizeddata/\",\"rawdata\":\"https://share.osf.io/api/v2/rawdata/\",\"sourceregistrations\":\"https://share.osf.io/api/v2/sourceregistrations/\",\"sources\":\"https://share.osf.io/api/v2/sources/\",\"users\":\"https://share.osf.io/api/v2/user/\",\"schema\":\"https://share.osf.io/api/v2/schema/\",\"status\":\"https://share.osf.io/api/v2/status\",\"rss\":\"https://share.osf.io/api/v2/rss\",\"atom\":\"https://share.osf.io/api/v2/atom\"}}\n"
     ]
    }
   ],
   "source": [
    "print(r.text) "
   ]
  },
  {
   "cell_type": "code",
   "execution_count": 61,
   "metadata": {},
   "outputs": [
    {
     "data": {
      "text/html": [
       "<div>\n",
       "<style scoped>\n",
       "    .dataframe tbody tr th:only-of-type {\n",
       "        vertical-align: middle;\n",
       "    }\n",
       "\n",
       "    .dataframe tbody tr th {\n",
       "        vertical-align: top;\n",
       "    }\n",
       "\n",
       "    .dataframe thead th {\n",
       "        text-align: right;\n",
       "    }\n",
       "</style>\n",
       "<table border=\"1\" class=\"dataframe\">\n",
       "  <thead>\n",
       "    <tr style=\"text-align: right;\">\n",
       "      <th></th>\n",
       "      <th>data</th>\n",
       "    </tr>\n",
       "  </thead>\n",
       "  <tbody>\n",
       "    <tr>\n",
       "      <th>atom</th>\n",
       "      <td>https://share.osf.io/api/v2/atom</td>\n",
       "    </tr>\n",
       "    <tr>\n",
       "      <th>normalizeddata</th>\n",
       "      <td>https://share.osf.io/api/v2/normalizeddata/</td>\n",
       "    </tr>\n",
       "    <tr>\n",
       "      <th>rawdata</th>\n",
       "      <td>https://share.osf.io/api/v2/rawdata/</td>\n",
       "    </tr>\n",
       "    <tr>\n",
       "      <th>rss</th>\n",
       "      <td>https://share.osf.io/api/v2/rss</td>\n",
       "    </tr>\n",
       "    <tr>\n",
       "      <th>schema</th>\n",
       "      <td>https://share.osf.io/api/v2/schema/</td>\n",
       "    </tr>\n",
       "    <tr>\n",
       "      <th>site_banners</th>\n",
       "      <td>https://share.osf.io/api/v2/site_banners/</td>\n",
       "    </tr>\n",
       "    <tr>\n",
       "      <th>sourceregistrations</th>\n",
       "      <td>https://share.osf.io/api/v2/sourceregistrations/</td>\n",
       "    </tr>\n",
       "    <tr>\n",
       "      <th>sources</th>\n",
       "      <td>https://share.osf.io/api/v2/sources/</td>\n",
       "    </tr>\n",
       "    <tr>\n",
       "      <th>status</th>\n",
       "      <td>https://share.osf.io/api/v2/status</td>\n",
       "    </tr>\n",
       "    <tr>\n",
       "      <th>users</th>\n",
       "      <td>https://share.osf.io/api/v2/user/</td>\n",
       "    </tr>\n",
       "  </tbody>\n",
       "</table>\n",
       "</div>"
      ],
      "text/plain": [
       "                                                                 data\n",
       "atom                                 https://share.osf.io/api/v2/atom\n",
       "normalizeddata            https://share.osf.io/api/v2/normalizeddata/\n",
       "rawdata                          https://share.osf.io/api/v2/rawdata/\n",
       "rss                                   https://share.osf.io/api/v2/rss\n",
       "schema                            https://share.osf.io/api/v2/schema/\n",
       "site_banners                https://share.osf.io/api/v2/site_banners/\n",
       "sourceregistrations  https://share.osf.io/api/v2/sourceregistrations/\n",
       "sources                          https://share.osf.io/api/v2/sources/\n",
       "status                             https://share.osf.io/api/v2/status\n",
       "users                               https://share.osf.io/api/v2/user/"
      ]
     },
     "metadata": {},
     "output_type": "display_data"
    }
   ],
   "source": [
    "info = pd.read_json('https://share.osf.io/api/v2/')\n",
    "display(info)"
   ]
  },
  {
   "cell_type": "code",
   "execution_count": 19,
   "metadata": {},
   "outputs": [
    {
     "data": {
      "text/plain": [
       "<Response [200]>"
      ]
     },
     "execution_count": 19,
     "metadata": {},
     "output_type": "execute_result"
    }
   ],
   "source": [
    "rSources = requests.get('https://share.osf.io/api/v2/sources/')\n",
    "rSources"
   ]
  },
  {
   "cell_type": "code",
   "execution_count": 20,
   "metadata": {},
   "outputs": [
    {
     "name": "stdout",
     "output_type": "stream",
     "text": [
      "{'links': {'first': 'https://share.osf.io/api/v2/sources/?page=1', 'last': 'https://share.osf.io/api/v2/sources/?page=18', 'next': 'https://share.osf.io/api/v2/sources/?page=2', 'prev': None}, 'data': [{'type': 'Source', 'id': 'DC205-58D-6AB', 'attributes': {'name': 'edu.nd', 'homePage': 'https://curate.nd.edu/', 'longTitle': 'University of Notre Dame, CurateND', 'icon': 'https://share.osf.io/icons/edu.nd.ico'}, 'links': {'self': 'https://share.osf.io/api/v2/sources/DC205-58D-6AB/'}}, {'type': 'Source', 'id': 'DC08F-FAB-19A', 'attributes': {'name': 'org.sldr', 'homePage': 'http://sldr.org', 'longTitle': 'Speech and Language Data Repository (SLDR/ORTOLANG)', 'icon': 'https://share.osf.io/icons/org.sldr.ico'}, 'links': {'self': 'https://share.osf.io/api/v2/sources/DC08F-FAB-19A/'}}, {'type': 'Source', 'id': 'DC16E-A87-089', 'attributes': {'name': 'pt.rcaap', 'homePage': 'http://www.rcaap.pt', 'longTitle': 'RCAAP - Repositório Científico de Acesso Aberto de Portugal', 'icon': 'https://share.osf.io/icons/pt.rcaap.ico'}, 'links': {'self': 'https://share.osf.io/api/v2/sources/DC16E-A87-089/'}}, {'type': 'Source', 'id': 'DC24D-562-F78', 'attributes': {'name': 'edu.mason', 'homePage': 'http://mars.gmu.edu/', 'longTitle': 'Mason Archival Repository Service', 'icon': 'https://share.osf.io/icons/edu.mason.ico'}, 'links': {'self': 'https://share.osf.io/api/v2/sources/DC24D-562-F78/'}}, {'type': 'Source', 'id': 'DC0D7-F80-A67', 'attributes': {'name': 'uk.cambridge', 'homePage': 'https://www.repository.cam.ac.uk', 'longTitle': 'Apollo @ University of Cambridge', 'icon': 'https://share.osf.io/icons/uk.cambridge.ico'}, 'links': {'self': 'https://share.osf.io/api/v2/sources/DC0D7-F80-A67/'}}, {'type': 'Source', 'id': 'DC1B6-A5C-956', 'attributes': {'name': 'br.pcurio', 'homePage': 'http://www.maxwell.vrac.puc-rio.br', 'longTitle': 'Pontifical Catholic University of Rio de Janeiro', 'icon': 'https://share.osf.io/icons/br.pcurio.ico'}, 'links': {'self': 'https://share.osf.io/api/v2/sources/DC1B6-A5C-956/'}}, {'type': 'Source', 'id': 'DC041-47A-445', 'attributes': {'name': 'edu.huskiecommons', 'homePage': 'http://commons.lib.niu.edu', 'longTitle': 'Huskie Commons @ Northern Illinois University', 'icon': 'https://share.osf.io/icons/edu.huskiecommons.ico'}, 'links': {'self': 'https://share.osf.io/api/v2/sources/DC041-47A-445/'}}, {'type': 'Source', 'id': 'DC1FE-A32-223', 'attributes': {'name': 'gov.doepages', 'homePage': 'http://www.osti.gov/pages/', 'longTitle': 'Department of Energy Pages', 'icon': 'https://share.osf.io/icons/gov.doepages.ico'}, 'links': {'self': 'https://share.osf.io/api/v2/sources/DC1FE-A32-223/'}}, {'type': 'Source', 'id': 'DC089-44F-D12', 'attributes': {'name': 'edu.asu', 'homePage': 'http://www.asu.edu/', 'longTitle': 'Arizona State University Digital Repository', 'icon': 'https://share.osf.io/icons/edu.asu.ico'}, 'links': {'self': 'https://share.osf.io/api/v2/sources/DC089-44F-D12/'}}, {'type': 'Source', 'id': 'DC167-F2B-C01', 'attributes': {'name': 'org.zenodo', 'homePage': 'https://zenodo.org/oai2d', 'longTitle': 'Zenodo', 'icon': 'https://share.osf.io/icons/org.zenodo.ico'}, 'links': {'self': 'https://share.osf.io/api/v2/sources/DC167-F2B-C01/'}}], 'meta': {'pagination': {'page': 1, 'pages': 18, 'count': 172}}}\n"
     ]
    },
    {
     "data": {
      "text/html": [
       "<div>\n",
       "<style scoped>\n",
       "    .dataframe tbody tr th:only-of-type {\n",
       "        vertical-align: middle;\n",
       "    }\n",
       "\n",
       "    .dataframe tbody tr th {\n",
       "        vertical-align: top;\n",
       "    }\n",
       "\n",
       "    .dataframe thead th {\n",
       "        text-align: right;\n",
       "    }\n",
       "</style>\n",
       "<table border=\"1\" class=\"dataframe\">\n",
       "  <thead>\n",
       "    <tr style=\"text-align: right;\">\n",
       "      <th></th>\n",
       "      <th>data</th>\n",
       "      <th>links.first</th>\n",
       "      <th>links.last</th>\n",
       "      <th>links.next</th>\n",
       "      <th>links.prev</th>\n",
       "      <th>meta.pagination.count</th>\n",
       "      <th>meta.pagination.page</th>\n",
       "      <th>meta.pagination.pages</th>\n",
       "    </tr>\n",
       "  </thead>\n",
       "  <tbody>\n",
       "    <tr>\n",
       "      <th>0</th>\n",
       "      <td>[{'type': 'Source', 'id': 'DC205-58D-6AB', 'at...</td>\n",
       "      <td>https://share.osf.io/api/v2/sources/?page=1</td>\n",
       "      <td>https://share.osf.io/api/v2/sources/?page=18</td>\n",
       "      <td>https://share.osf.io/api/v2/sources/?page=2</td>\n",
       "      <td>None</td>\n",
       "      <td>172</td>\n",
       "      <td>1</td>\n",
       "      <td>18</td>\n",
       "    </tr>\n",
       "  </tbody>\n",
       "</table>\n",
       "</div>"
      ],
      "text/plain": [
       "                                                data  \\\n",
       "0  [{'type': 'Source', 'id': 'DC205-58D-6AB', 'at...   \n",
       "\n",
       "                                   links.first  \\\n",
       "0  https://share.osf.io/api/v2/sources/?page=1   \n",
       "\n",
       "                                     links.last  \\\n",
       "0  https://share.osf.io/api/v2/sources/?page=18   \n",
       "\n",
       "                                    links.next links.prev  \\\n",
       "0  https://share.osf.io/api/v2/sources/?page=2       None   \n",
       "\n",
       "   meta.pagination.count  meta.pagination.page  meta.pagination.pages  \n",
       "0                    172                     1                     18  "
      ]
     },
     "execution_count": 20,
     "metadata": {},
     "output_type": "execute_result"
    }
   ],
   "source": [
    "results = rSources.json()\n",
    "display(results)\n",
    "flattened_data = json_normalize(results)\n",
    "flattened_data"
   ]
  },
  {
   "cell_type": "code",
   "execution_count": 26,
   "metadata": {},
   "outputs": [
    {
     "data": {
      "text/plain": [
       "data                     object\n",
       "links.first              object\n",
       "links.last               object\n",
       "links.next               object\n",
       "links.prev               object\n",
       "meta.pagination.count     int64\n",
       "meta.pagination.page      int64\n",
       "meta.pagination.pages     int64\n",
       "dtype: object"
      ]
     },
     "execution_count": 26,
     "metadata": {},
     "output_type": "execute_result"
    }
   ],
   "source": [
    "flattened_data.dtypes"
   ]
  },
  {
   "cell_type": "code",
   "execution_count": 48,
   "metadata": {},
   "outputs": [],
   "source": [
    "data_col = flattened_data[\"data\"]"
   ]
  },
  {
   "cell_type": "code",
   "execution_count": 60,
   "metadata": {},
   "outputs": [
    {
     "data": {
      "text/html": [
       "<div>\n",
       "<style scoped>\n",
       "    .dataframe tbody tr th:only-of-type {\n",
       "        vertical-align: middle;\n",
       "    }\n",
       "\n",
       "    .dataframe tbody tr th {\n",
       "        vertical-align: top;\n",
       "    }\n",
       "\n",
       "    .dataframe thead th {\n",
       "        text-align: right;\n",
       "    }\n",
       "</style>\n",
       "<table border=\"1\" class=\"dataframe\">\n",
       "  <thead>\n",
       "    <tr style=\"text-align: right;\">\n",
       "      <th></th>\n",
       "      <th>attributes</th>\n",
       "      <th>id</th>\n",
       "      <th>links</th>\n",
       "      <th>type</th>\n",
       "    </tr>\n",
       "  </thead>\n",
       "  <tbody>\n",
       "    <tr>\n",
       "      <th>0</th>\n",
       "      <td>{'name': 'edu.nd', 'homePage': 'https://curate...</td>\n",
       "      <td>DC205-58D-6AB</td>\n",
       "      <td>{'self': 'https://share.osf.io/api/v2/sources/...</td>\n",
       "      <td>Source</td>\n",
       "    </tr>\n",
       "    <tr>\n",
       "      <th>1</th>\n",
       "      <td>{'name': 'org.sldr', 'homePage': 'http://sldr....</td>\n",
       "      <td>DC08F-FAB-19A</td>\n",
       "      <td>{'self': 'https://share.osf.io/api/v2/sources/...</td>\n",
       "      <td>Source</td>\n",
       "    </tr>\n",
       "    <tr>\n",
       "      <th>2</th>\n",
       "      <td>{'name': 'pt.rcaap', 'homePage': 'http://www.r...</td>\n",
       "      <td>DC16E-A87-089</td>\n",
       "      <td>{'self': 'https://share.osf.io/api/v2/sources/...</td>\n",
       "      <td>Source</td>\n",
       "    </tr>\n",
       "    <tr>\n",
       "      <th>3</th>\n",
       "      <td>{'name': 'edu.mason', 'homePage': 'http://mars...</td>\n",
       "      <td>DC24D-562-F78</td>\n",
       "      <td>{'self': 'https://share.osf.io/api/v2/sources/...</td>\n",
       "      <td>Source</td>\n",
       "    </tr>\n",
       "    <tr>\n",
       "      <th>4</th>\n",
       "      <td>{'name': 'uk.cambridge', 'homePage': 'https://...</td>\n",
       "      <td>DC0D7-F80-A67</td>\n",
       "      <td>{'self': 'https://share.osf.io/api/v2/sources/...</td>\n",
       "      <td>Source</td>\n",
       "    </tr>\n",
       "    <tr>\n",
       "      <th>5</th>\n",
       "      <td>{'name': 'br.pcurio', 'homePage': 'http://www....</td>\n",
       "      <td>DC1B6-A5C-956</td>\n",
       "      <td>{'self': 'https://share.osf.io/api/v2/sources/...</td>\n",
       "      <td>Source</td>\n",
       "    </tr>\n",
       "    <tr>\n",
       "      <th>6</th>\n",
       "      <td>{'name': 'edu.huskiecommons', 'homePage': 'htt...</td>\n",
       "      <td>DC041-47A-445</td>\n",
       "      <td>{'self': 'https://share.osf.io/api/v2/sources/...</td>\n",
       "      <td>Source</td>\n",
       "    </tr>\n",
       "    <tr>\n",
       "      <th>7</th>\n",
       "      <td>{'name': 'gov.doepages', 'homePage': 'http://w...</td>\n",
       "      <td>DC1FE-A32-223</td>\n",
       "      <td>{'self': 'https://share.osf.io/api/v2/sources/...</td>\n",
       "      <td>Source</td>\n",
       "    </tr>\n",
       "    <tr>\n",
       "      <th>8</th>\n",
       "      <td>{'name': 'edu.asu', 'homePage': 'http://www.as...</td>\n",
       "      <td>DC089-44F-D12</td>\n",
       "      <td>{'self': 'https://share.osf.io/api/v2/sources/...</td>\n",
       "      <td>Source</td>\n",
       "    </tr>\n",
       "    <tr>\n",
       "      <th>9</th>\n",
       "      <td>{'name': 'org.zenodo', 'homePage': 'https://ze...</td>\n",
       "      <td>DC167-F2B-C01</td>\n",
       "      <td>{'self': 'https://share.osf.io/api/v2/sources/...</td>\n",
       "      <td>Source</td>\n",
       "    </tr>\n",
       "  </tbody>\n",
       "</table>\n",
       "</div>"
      ],
      "text/plain": [
       "                                          attributes             id  \\\n",
       "0  {'name': 'edu.nd', 'homePage': 'https://curate...  DC205-58D-6AB   \n",
       "1  {'name': 'org.sldr', 'homePage': 'http://sldr....  DC08F-FAB-19A   \n",
       "2  {'name': 'pt.rcaap', 'homePage': 'http://www.r...  DC16E-A87-089   \n",
       "3  {'name': 'edu.mason', 'homePage': 'http://mars...  DC24D-562-F78   \n",
       "4  {'name': 'uk.cambridge', 'homePage': 'https://...  DC0D7-F80-A67   \n",
       "5  {'name': 'br.pcurio', 'homePage': 'http://www....  DC1B6-A5C-956   \n",
       "6  {'name': 'edu.huskiecommons', 'homePage': 'htt...  DC041-47A-445   \n",
       "7  {'name': 'gov.doepages', 'homePage': 'http://w...  DC1FE-A32-223   \n",
       "8  {'name': 'edu.asu', 'homePage': 'http://www.as...  DC089-44F-D12   \n",
       "9  {'name': 'org.zenodo', 'homePage': 'https://ze...  DC167-F2B-C01   \n",
       "\n",
       "                                               links    type  \n",
       "0  {'self': 'https://share.osf.io/api/v2/sources/...  Source  \n",
       "1  {'self': 'https://share.osf.io/api/v2/sources/...  Source  \n",
       "2  {'self': 'https://share.osf.io/api/v2/sources/...  Source  \n",
       "3  {'self': 'https://share.osf.io/api/v2/sources/...  Source  \n",
       "4  {'self': 'https://share.osf.io/api/v2/sources/...  Source  \n",
       "5  {'self': 'https://share.osf.io/api/v2/sources/...  Source  \n",
       "6  {'self': 'https://share.osf.io/api/v2/sources/...  Source  \n",
       "7  {'self': 'https://share.osf.io/api/v2/sources/...  Source  \n",
       "8  {'self': 'https://share.osf.io/api/v2/sources/...  Source  \n",
       "9  {'self': 'https://share.osf.io/api/v2/sources/...  Source  "
      ]
     },
     "execution_count": 60,
     "metadata": {},
     "output_type": "execute_result"
    }
   ],
   "source": [
    "data_col_2 = data_col[0]\n",
    "df = pd.DataFrame(data_col_2)\n",
    "df"
   ]
  },
  {
   "cell_type": "code",
   "execution_count": null,
   "metadata": {},
   "outputs": [],
   "source": []
  }
 ],
 "metadata": {
  "kernelspec": {
   "display_name": "Python 3",
   "language": "python",
   "name": "python3"
  },
  "language_info": {
   "codemirror_mode": {
    "name": "ipython",
    "version": 3
   },
   "file_extension": ".py",
   "mimetype": "text/x-python",
   "name": "python",
   "nbconvert_exporter": "python",
   "pygments_lexer": "ipython3",
   "version": "3.6.6"
  }
 },
 "nbformat": 4,
 "nbformat_minor": 2
}

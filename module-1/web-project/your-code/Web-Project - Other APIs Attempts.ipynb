{
 "cells": [
  {
   "cell_type": "markdown",
   "metadata": {},
   "source": [
    "# Web Project API 1"
   ]
  },
  {
   "cell_type": "markdown",
   "metadata": {},
   "source": [
    "* Make calls to your choysen API and successfully obtain a response, \n",
    "* Request data, convert it into a Pandas data frame, and export it as a CSV file. "
   ]
  },
  {
   "cell_type": "markdown",
   "metadata": {},
   "source": [
    "### https://share.osf.io/\n",
    "    "
   ]
  },
  {
   "cell_type": "code",
   "execution_count": 1,
   "metadata": {},
   "outputs": [],
   "source": [
    "import requests, json, pandas as pd"
   ]
  },
  {
   "cell_type": "markdown",
   "metadata": {},
   "source": [
    "urllib3 was addded after reading about it, but it doesn't add anything here. It's `request` module is totally different from the requests library"
   ]
  },
  {
   "cell_type": "markdown",
   "metadata": {},
   "source": [
    "It is necessary to import *json_normalize*, even though it is a sublibrary of *pandas*):"
   ]
  },
  {
   "cell_type": "code",
   "execution_count": 10,
   "metadata": {},
   "outputs": [],
   "source": [
    "from pandas.io.json import json_normalize"
   ]
  },
  {
   "cell_type": "code",
   "execution_count": 3,
   "metadata": {},
   "outputs": [
    {
     "ename": "NameError",
     "evalue": "name 'json_normalize' is not defined",
     "output_type": "error",
     "traceback": [
      "\u001b[0;31m---------------------------------------------------------------------------\u001b[0m",
      "\u001b[0;31mNameError\u001b[0m                                 Traceback (most recent call last)",
      "\u001b[0;32m<ipython-input-3-23f32d61f994>\u001b[0m in \u001b[0;36m<module>\u001b[0;34m\u001b[0m\n\u001b[0;32m----> 1\u001b[0;31m \u001b[0mdir\u001b[0m\u001b[0;34m(\u001b[0m\u001b[0mjson_normalize\u001b[0m\u001b[0;34m)\u001b[0m\u001b[0;34m\u001b[0m\u001b[0m\n\u001b[0m",
      "\u001b[0;31mNameError\u001b[0m: name 'json_normalize' is not defined"
     ]
    }
   ],
   "source": [
    "dir(json_normalize)"
   ]
  },
  {
   "cell_type": "code",
   "execution_count": 4,
   "metadata": {},
   "outputs": [
    {
     "data": {
      "text/plain": [
       "<Response [200]>"
      ]
     },
     "execution_count": 4,
     "metadata": {},
     "output_type": "execute_result"
    }
   ],
   "source": [
    "r = requests.get('https://share.osf.io/api/v2/')\n",
    "r"
   ]
  },
  {
   "cell_type": "code",
   "execution_count": 12,
   "metadata": {},
   "outputs": [
    {
     "name": "stdout",
     "output_type": "stream",
     "text": [
      "{\"data\":{\"site_banners\":\"https://share.osf.io/api/v2/site_banners/\",\"normalizeddata\":\"https://share.osf.io/api/v2/normalizeddata/\",\"rawdata\":\"https://share.osf.io/api/v2/rawdata/\",\"sourceregistrations\":\"https://share.osf.io/api/v2/sourceregistrations/\",\"sources\":\"https://share.osf.io/api/v2/sources/\",\"users\":\"https://share.osf.io/api/v2/user/\",\"schema\":\"https://share.osf.io/api/v2/schema/\",\"status\":\"https://share.osf.io/api/v2/status\",\"rss\":\"https://share.osf.io/api/v2/rss\",\"atom\":\"https://share.osf.io/api/v2/atom\"}}\n"
     ]
    }
   ],
   "source": [
    "print(r.text) "
   ]
  },
  {
   "cell_type": "code",
   "execution_count": 6,
   "metadata": {},
   "outputs": [
    {
     "data": {
      "text/html": [
       "<div>\n",
       "<style scoped>\n",
       "    .dataframe tbody tr th:only-of-type {\n",
       "        vertical-align: middle;\n",
       "    }\n",
       "\n",
       "    .dataframe tbody tr th {\n",
       "        vertical-align: top;\n",
       "    }\n",
       "\n",
       "    .dataframe thead th {\n",
       "        text-align: right;\n",
       "    }\n",
       "</style>\n",
       "<table border=\"1\" class=\"dataframe\">\n",
       "  <thead>\n",
       "    <tr style=\"text-align: right;\">\n",
       "      <th></th>\n",
       "      <th>data</th>\n",
       "    </tr>\n",
       "  </thead>\n",
       "  <tbody>\n",
       "    <tr>\n",
       "      <th>atom</th>\n",
       "      <td>https://share.osf.io/api/v2/atom</td>\n",
       "    </tr>\n",
       "    <tr>\n",
       "      <th>normalizeddata</th>\n",
       "      <td>https://share.osf.io/api/v2/normalizeddata/</td>\n",
       "    </tr>\n",
       "    <tr>\n",
       "      <th>rawdata</th>\n",
       "      <td>https://share.osf.io/api/v2/rawdata/</td>\n",
       "    </tr>\n",
       "    <tr>\n",
       "      <th>rss</th>\n",
       "      <td>https://share.osf.io/api/v2/rss</td>\n",
       "    </tr>\n",
       "    <tr>\n",
       "      <th>schema</th>\n",
       "      <td>https://share.osf.io/api/v2/schema/</td>\n",
       "    </tr>\n",
       "    <tr>\n",
       "      <th>site_banners</th>\n",
       "      <td>https://share.osf.io/api/v2/site_banners/</td>\n",
       "    </tr>\n",
       "    <tr>\n",
       "      <th>sourceregistrations</th>\n",
       "      <td>https://share.osf.io/api/v2/sourceregistrations/</td>\n",
       "    </tr>\n",
       "    <tr>\n",
       "      <th>sources</th>\n",
       "      <td>https://share.osf.io/api/v2/sources/</td>\n",
       "    </tr>\n",
       "    <tr>\n",
       "      <th>status</th>\n",
       "      <td>https://share.osf.io/api/v2/status</td>\n",
       "    </tr>\n",
       "    <tr>\n",
       "      <th>users</th>\n",
       "      <td>https://share.osf.io/api/v2/user/</td>\n",
       "    </tr>\n",
       "  </tbody>\n",
       "</table>\n",
       "</div>"
      ],
      "text/plain": [
       "                                                                 data\n",
       "atom                                 https://share.osf.io/api/v2/atom\n",
       "normalizeddata            https://share.osf.io/api/v2/normalizeddata/\n",
       "rawdata                          https://share.osf.io/api/v2/rawdata/\n",
       "rss                                   https://share.osf.io/api/v2/rss\n",
       "schema                            https://share.osf.io/api/v2/schema/\n",
       "site_banners                https://share.osf.io/api/v2/site_banners/\n",
       "sourceregistrations  https://share.osf.io/api/v2/sourceregistrations/\n",
       "sources                          https://share.osf.io/api/v2/sources/\n",
       "status                             https://share.osf.io/api/v2/status\n",
       "users                               https://share.osf.io/api/v2/user/"
      ]
     },
     "metadata": {},
     "output_type": "display_data"
    }
   ],
   "source": [
    "info = pd.read_json('https://share.osf.io/api/v2/')\n",
    "display(info)"
   ]
  },
  {
   "cell_type": "code",
   "execution_count": 7,
   "metadata": {},
   "outputs": [
    {
     "data": {
      "text/plain": [
       "<Response [200]>"
      ]
     },
     "execution_count": 7,
     "metadata": {},
     "output_type": "execute_result"
    }
   ],
   "source": [
    "rSources = requests.get('https://share.osf.io/api/v2/sources/')\n",
    "rSources"
   ]
  },
  {
   "cell_type": "code",
   "execution_count": 11,
   "metadata": {},
   "outputs": [
    {
     "data": {
      "text/plain": [
       "{'links': {'first': 'https://share.osf.io/api/v2/sources/?page=1',\n",
       "  'last': 'https://share.osf.io/api/v2/sources/?page=18',\n",
       "  'next': 'https://share.osf.io/api/v2/sources/?page=2',\n",
       "  'prev': None},\n",
       " 'data': [{'type': 'Source',\n",
       "   'id': 'DC205-58D-6AB',\n",
       "   'attributes': {'name': 'edu.nd',\n",
       "    'homePage': 'https://curate.nd.edu/',\n",
       "    'longTitle': 'University of Notre Dame, CurateND',\n",
       "    'icon': 'https://share.osf.io/icons/edu.nd.ico'},\n",
       "   'links': {'self': 'https://share.osf.io/api/v2/sources/DC205-58D-6AB/'}},\n",
       "  {'type': 'Source',\n",
       "   'id': 'DC08F-FAB-19A',\n",
       "   'attributes': {'name': 'org.sldr',\n",
       "    'homePage': 'http://sldr.org',\n",
       "    'longTitle': 'Speech and Language Data Repository (SLDR/ORTOLANG)',\n",
       "    'icon': 'https://share.osf.io/icons/org.sldr.ico'},\n",
       "   'links': {'self': 'https://share.osf.io/api/v2/sources/DC08F-FAB-19A/'}},\n",
       "  {'type': 'Source',\n",
       "   'id': 'DC16E-A87-089',\n",
       "   'attributes': {'name': 'pt.rcaap',\n",
       "    'homePage': 'http://www.rcaap.pt',\n",
       "    'longTitle': 'RCAAP - Repositório Científico de Acesso Aberto de Portugal',\n",
       "    'icon': 'https://share.osf.io/icons/pt.rcaap.ico'},\n",
       "   'links': {'self': 'https://share.osf.io/api/v2/sources/DC16E-A87-089/'}},\n",
       "  {'type': 'Source',\n",
       "   'id': 'DC24D-562-F78',\n",
       "   'attributes': {'name': 'edu.mason',\n",
       "    'homePage': 'http://mars.gmu.edu/',\n",
       "    'longTitle': 'Mason Archival Repository Service',\n",
       "    'icon': 'https://share.osf.io/icons/edu.mason.ico'},\n",
       "   'links': {'self': 'https://share.osf.io/api/v2/sources/DC24D-562-F78/'}},\n",
       "  {'type': 'Source',\n",
       "   'id': 'DC0D7-F80-A67',\n",
       "   'attributes': {'name': 'uk.cambridge',\n",
       "    'homePage': 'https://www.repository.cam.ac.uk',\n",
       "    'longTitle': 'Apollo @ University of Cambridge',\n",
       "    'icon': 'https://share.osf.io/icons/uk.cambridge.ico'},\n",
       "   'links': {'self': 'https://share.osf.io/api/v2/sources/DC0D7-F80-A67/'}},\n",
       "  {'type': 'Source',\n",
       "   'id': 'DC1B6-A5C-956',\n",
       "   'attributes': {'name': 'br.pcurio',\n",
       "    'homePage': 'http://www.maxwell.vrac.puc-rio.br',\n",
       "    'longTitle': 'Pontifical Catholic University of Rio de Janeiro',\n",
       "    'icon': 'https://share.osf.io/icons/br.pcurio.ico'},\n",
       "   'links': {'self': 'https://share.osf.io/api/v2/sources/DC1B6-A5C-956/'}},\n",
       "  {'type': 'Source',\n",
       "   'id': 'DC041-47A-445',\n",
       "   'attributes': {'name': 'edu.huskiecommons',\n",
       "    'homePage': 'http://commons.lib.niu.edu',\n",
       "    'longTitle': 'Huskie Commons @ Northern Illinois University',\n",
       "    'icon': 'https://share.osf.io/icons/edu.huskiecommons.ico'},\n",
       "   'links': {'self': 'https://share.osf.io/api/v2/sources/DC041-47A-445/'}},\n",
       "  {'type': 'Source',\n",
       "   'id': 'DC1FE-A32-223',\n",
       "   'attributes': {'name': 'gov.doepages',\n",
       "    'homePage': 'http://www.osti.gov/pages/',\n",
       "    'longTitle': 'Department of Energy Pages',\n",
       "    'icon': 'https://share.osf.io/icons/gov.doepages.ico'},\n",
       "   'links': {'self': 'https://share.osf.io/api/v2/sources/DC1FE-A32-223/'}},\n",
       "  {'type': 'Source',\n",
       "   'id': 'DC089-44F-D12',\n",
       "   'attributes': {'name': 'edu.asu',\n",
       "    'homePage': 'http://www.asu.edu/',\n",
       "    'longTitle': 'Arizona State University Digital Repository',\n",
       "    'icon': 'https://share.osf.io/icons/edu.asu.ico'},\n",
       "   'links': {'self': 'https://share.osf.io/api/v2/sources/DC089-44F-D12/'}},\n",
       "  {'type': 'Source',\n",
       "   'id': 'DC167-F2B-C01',\n",
       "   'attributes': {'name': 'org.zenodo',\n",
       "    'homePage': 'https://zenodo.org/oai2d',\n",
       "    'longTitle': 'Zenodo',\n",
       "    'icon': 'https://share.osf.io/icons/org.zenodo.ico'},\n",
       "   'links': {'self': 'https://share.osf.io/api/v2/sources/DC167-F2B-C01/'}}],\n",
       " 'meta': {'pagination': {'page': 1, 'pages': 18, 'count': 172}}}"
      ]
     },
     "metadata": {},
     "output_type": "display_data"
    },
    {
     "data": {
      "text/html": [
       "<div>\n",
       "<style scoped>\n",
       "    .dataframe tbody tr th:only-of-type {\n",
       "        vertical-align: middle;\n",
       "    }\n",
       "\n",
       "    .dataframe tbody tr th {\n",
       "        vertical-align: top;\n",
       "    }\n",
       "\n",
       "    .dataframe thead th {\n",
       "        text-align: right;\n",
       "    }\n",
       "</style>\n",
       "<table border=\"1\" class=\"dataframe\">\n",
       "  <thead>\n",
       "    <tr style=\"text-align: right;\">\n",
       "      <th></th>\n",
       "      <th>data</th>\n",
       "      <th>links.first</th>\n",
       "      <th>links.last</th>\n",
       "      <th>links.next</th>\n",
       "      <th>links.prev</th>\n",
       "      <th>meta.pagination.count</th>\n",
       "      <th>meta.pagination.page</th>\n",
       "      <th>meta.pagination.pages</th>\n",
       "    </tr>\n",
       "  </thead>\n",
       "  <tbody>\n",
       "    <tr>\n",
       "      <th>0</th>\n",
       "      <td>[{'type': 'Source', 'id': 'DC205-58D-6AB', 'at...</td>\n",
       "      <td>https://share.osf.io/api/v2/sources/?page=1</td>\n",
       "      <td>https://share.osf.io/api/v2/sources/?page=18</td>\n",
       "      <td>https://share.osf.io/api/v2/sources/?page=2</td>\n",
       "      <td>None</td>\n",
       "      <td>172</td>\n",
       "      <td>1</td>\n",
       "      <td>18</td>\n",
       "    </tr>\n",
       "  </tbody>\n",
       "</table>\n",
       "</div>"
      ],
      "text/plain": [
       "                                                data  \\\n",
       "0  [{'type': 'Source', 'id': 'DC205-58D-6AB', 'at...   \n",
       "\n",
       "                                   links.first  \\\n",
       "0  https://share.osf.io/api/v2/sources/?page=1   \n",
       "\n",
       "                                     links.last  \\\n",
       "0  https://share.osf.io/api/v2/sources/?page=18   \n",
       "\n",
       "                                    links.next links.prev  \\\n",
       "0  https://share.osf.io/api/v2/sources/?page=2       None   \n",
       "\n",
       "   meta.pagination.count  meta.pagination.page  meta.pagination.pages  \n",
       "0                    172                     1                     18  "
      ]
     },
     "execution_count": 11,
     "metadata": {},
     "output_type": "execute_result"
    }
   ],
   "source": [
    "results = rSources.json()\n",
    "display(results)\n",
    "flattened_data = json_normalize(results)\n",
    "flattened_data"
   ]
  },
  {
   "cell_type": "code",
   "execution_count": null,
   "metadata": {},
   "outputs": [],
   "source": [
    "flattened_data.dtypes"
   ]
  },
  {
   "cell_type": "code",
   "execution_count": null,
   "metadata": {},
   "outputs": [],
   "source": [
    "data_col = flattened_data[\"data\"]"
   ]
  },
  {
   "cell_type": "code",
   "execution_count": null,
   "metadata": {},
   "outputs": [],
   "source": [
    "data_col_2 = data_col[0]\n",
    "df = pd.DataFrame(data_col_2)\n",
    "df"
   ]
  },
  {
   "cell_type": "markdown",
   "metadata": {},
   "source": [
    "-"
   ]
  },
  {
   "cell_type": "markdown",
   "metadata": {},
   "source": [
    "# Web Project API 2"
   ]
  },
  {
   "cell_type": "markdown",
   "metadata": {},
   "source": [
    "* Make calls to your choysen API and successfully obtain a response, \n",
    "* Request data, convert it into a Pandas data frame, and export it as a CSV file. "
   ]
  },
  {
   "cell_type": "markdown",
   "metadata": {},
   "source": [
    "### https://developers.teleport.org/\n"
   ]
  },
  {
   "cell_type": "code",
   "execution_count": 1,
   "metadata": {},
   "outputs": [],
   "source": [
    "import requests, json, pandas as pd"
   ]
  },
  {
   "cell_type": "code",
   "execution_count": null,
   "metadata": {},
   "outputs": [],
   "source": [
    "from pandas.io.json import json_normalize"
   ]
  },
  {
   "cell_type": "code",
   "execution_count": 8,
   "metadata": {},
   "outputs": [
    {
     "data": {
      "text/plain": [
       "<Response [404]>"
      ]
     },
     "execution_count": 8,
     "metadata": {},
     "output_type": "execute_result"
    }
   ],
   "source": [
    "r = requests.get('https://api.teleport.org/api/)')\n",
    "r"
   ]
  },
  {
   "cell_type": "markdown",
   "metadata": {},
   "source": [
    "It doesn't work"
   ]
  },
  {
   "cell_type": "markdown",
   "metadata": {},
   "source": []
  },
  {
   "cell_type": "markdown",
   "metadata": {},
   "source": [
    "# Web Project API 3"
   ]
  },
  {
   "cell_type": "markdown",
   "metadata": {},
   "source": [
    "* Make calls to your choysen API and successfully obtain a response, \n",
    "* Request data, convert it into a Pandas data frame, and export it as a CSV file. "
   ]
  },
  {
   "cell_type": "markdown",
   "metadata": {},
   "source": [
    "### https://data.medicare.gov/developers  \n",
    "\n",
    "https://data.ct.gov/resource/y6p2-px98.json?category=Fruit&item=Peaches\n"
   ]
  },
  {
   "cell_type": "code",
   "execution_count": 1,
   "metadata": {},
   "outputs": [],
   "source": [
    "import requests, json, urllib3, pandas as pd"
   ]
  },
  {
   "cell_type": "code",
   "execution_count": 2,
   "metadata": {},
   "outputs": [],
   "source": [
    "from pandas.io.json import json_normalize"
   ]
  },
  {
   "cell_type": "code",
   "execution_count": 3,
   "metadata": {},
   "outputs": [
    {
     "data": {
      "text/plain": [
       "<Response [200]>"
      ]
     },
     "execution_count": 3,
     "metadata": {},
     "output_type": "execute_result"
    }
   ],
   "source": [
    "r = requests.get('https://data.medicare.gov/developers')\n",
    "r"
   ]
  },
  {
   "cell_type": "code",
   "execution_count": 1,
   "metadata": {},
   "outputs": [
    {
     "ename": "NameError",
     "evalue": "name 'r' is not defined",
     "output_type": "error",
     "traceback": [
      "\u001b[0;31m---------------------------------------------------------------------------\u001b[0m",
      "\u001b[0;31mNameError\u001b[0m                                 Traceback (most recent call last)",
      "\u001b[0;32m<ipython-input-1-3b14da026163>\u001b[0m in \u001b[0;36m<module>\u001b[0;34m\u001b[0m\n\u001b[0;32m----> 1\u001b[0;31m \u001b[0mprint\u001b[0m\u001b[0;34m(\u001b[0m\u001b[0mr\u001b[0m\u001b[0;34m.\u001b[0m\u001b[0mtext\u001b[0m\u001b[0;34m)\u001b[0m\u001b[0;34m\u001b[0m\u001b[0m\n\u001b[0m",
      "\u001b[0;31mNameError\u001b[0m: name 'r' is not defined"
     ]
    }
   ],
   "source": [
    "print(r.text) # .DO for some reason this won't print if this line runs alone a second time..."
   ]
  },
  {
   "cell_type": "markdown",
   "metadata": {},
   "source": [
    "Using urllib3 here, but it is probably not needed. urlopen(0) can be used from urllib I guess. "
   ]
  },
  {
   "cell_type": "code",
   "execution_count": 5,
   "metadata": {},
   "outputs": [],
   "source": [
    "url ='https://data.medicare.gov/developers'\n",
    "http_pool = urllib3.connection_from_url(url)\n",
    "r = http_pool.urlopen('GET',url)\n",
    "# print (r.data.decode('utf-8'))"
   ]
  }
 ],
 "metadata": {
  "kernelspec": {
   "display_name": "Python 3",
   "language": "python",
   "name": "python3"
  },
  "language_info": {
   "codemirror_mode": {
    "name": "ipython",
    "version": 3
   },
   "file_extension": ".py",
   "mimetype": "text/x-python",
   "name": "python",
   "nbconvert_exporter": "python",
   "pygments_lexer": "ipython3",
   "version": "3.6.6"
  }
 },
 "nbformat": 4,
 "nbformat_minor": 2
}

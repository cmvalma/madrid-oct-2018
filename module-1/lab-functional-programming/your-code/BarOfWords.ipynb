{
 "cells": [
  {
   "cell_type": "markdown",
   "metadata": {},
   "source": [
    "Define `docs` array that contains the paths of `doc1.txt`, `doc2.txt`, and `doc3.txt`."
   ]
  },
  {
   "cell_type": "code",
   "execution_count": 16,
   "metadata": {},
   "outputs": [],
   "source": [
    "import re"
   ]
  },
  {
   "cell_type": "code",
   "execution_count": 17,
   "metadata": {},
   "outputs": [],
   "source": [
    "docs = ['doc1.txt', 'doc2.txt', 'doc3.txt']"
   ]
  },
  {
   "cell_type": "markdown",
   "metadata": {},
   "source": [
    "Define an empty array `corpus` that will contain the content strings of the docs. Loop `docs` and read the content of each doc into the `corpus` array."
   ]
  },
  {
   "cell_type": "code",
   "execution_count": 23,
   "metadata": {},
   "outputs": [
    {
     "name": "stdout",
     "output_type": "stream",
     "text": [
      "<class 'str'>\n",
      "<class 'str'>\n",
      "<class 'str'>\n"
     ]
    }
   ],
   "source": [
    "corpus = []\n",
    "\n",
    "for i in range(len(docs)):\n",
    "    # `with` statement controls automatically that the doc is closed, so no need to:\n",
    "    with open(docs[i]) as f:\n",
    "        # print(type(f.read()))\n",
    "        corpus.append(f.read().lower().replace('.', ''))\n"
   ]
  },
  {
   "cell_type": "code",
   "execution_count": null,
   "metadata": {},
   "outputs": [],
   "source": [
    "print(corpus)"
   ]
  },
  {
   "cell_type": "markdown",
   "metadata": {},
   "source": [
    "_______________\n",
    "\n",
    "I define empty arrays: \n",
    "    `lSenteWords` as the lists of words per sentence.\n",
    "    `duplicateWords` is a middle step list that contains as elements each word, as used in the sentence, \n",
    "        thus reflecting the duplicates\n",
    "    `bag_of_words` will contain the unique terms in `corpus`.\n",
    "\n",
    "Loop through `corpus`. In each loop, do the following:\n",
    "\n",
    "1. Break the string into an array of terms. \n",
    "1. Create a sub-loop to iterate the terms array. \n",
    "  * In each sub-loop, you'll check if the current term is already contained in `bag_of_words`. If not in `bag_of_words`, append it to the array."
   ]
  },
  {
   "cell_type": "code",
   "execution_count": null,
   "metadata": {},
   "outputs": [],
   "source": [
    "bag_of_words = []\n",
    "lSenteWords = []\n",
    "duplicateWords = []\n",
    "\n",
    "\n",
    "# Break list of strings into lists of words of each sentence:\n",
    "for i in range(len(corpus)):\n",
    "    lSenteWords.append(re.findall('\\w+', corpus[i]))\n",
    "    # print(lSenteWords)\n",
    "    \n",
    "    # Enter each list of words element into sigle list of words (no duplicates removal)\n",
    "    for word in lSenteWords[i]:\n",
    "        duplicateWords.append(word)       \n",
    "        # print('i is ', i, 'word is ', word) \n",
    "\n",
    "# print(\"duplicate: \", duplicateWords)\n",
    "\n",
    "\n",
    "# Get single elements:       \n",
    "bag_of_words = set(duplicateWords)"
   ]
  },
  {
   "cell_type": "code",
   "execution_count": null,
   "metadata": {},
   "outputs": [],
   "source": [
    "# \"\"\"\n",
    "# The following are hidden in Jupyterlab. Jupyter notebooks seem not to be able to hide them. \n",
    "# All are therefore commented (Select the target code and press `Ctrl+/` to uncomment and run)\n",
    "# \"\"\""
   ]
  },
  {
   "cell_type": "code",
   "execution_count": null,
   "metadata": {},
   "outputs": [],
   "source": [
    "\n",
    "# # Forma inicialmente más sucinta, pero más complicada a la hora de hacer el índice para el segundo for:\n",
    "# bag_of_words = []\n",
    "# lSenteWords = []\n",
    "# # print('len %d' %(len(corpus)))\n",
    "\n",
    "# # Break list of strings into lists of words of each sentence:\n",
    "# for i in corpus:\n",
    "#     lSenteWords.append(re.findall('\\w+', i))\n",
    "# #     print(lSenteWords)\n",
    "\n",
    "# #     Enter each list of words element into bag_of_words\n",
    "# # for j in len(lSenteWords):\n",
    "# #     print(word) \n",
    "        \n",
    "# #         bag_of_words.append(word)\n",
    "\n",
    "\n",
    "# # singCorpus = re.findall('\\w+', corpus[i])\n",
    "# lSenteWords\n",
    "# # bag_of_words\n",
    "# # print(bag_of_words)"
   ]
  },
  {
   "cell_type": "code",
   "execution_count": null,
   "metadata": {},
   "outputs": [],
   "source": [
    "\n",
    "# # Also breaks list of strings into word list\n",
    "# lista1= []\n",
    "\n",
    "# for i in range(0, len(corpus)):\n",
    "#     lista1.append(re.split('\\W+', corpus[i]))\n",
    "# #lista1"
   ]
  },
  {
   "cell_type": "code",
   "execution_count": null,
   "metadata": {},
   "outputs": [],
   "source": [
    "\n",
    "# # Con lambda - uses lista1 from code above\n",
    "# palabras = []\n",
    "# palabras[0:2]= list(filter(lambda w: len(w), lista1))\n",
    "# palabras"
   ]
  },
  {
   "cell_type": "code",
   "execution_count": null,
   "metadata": {},
   "outputs": [],
   "source": [
    "\n",
    "# # filter gives re.split('\\W+', corpus) values to lambda expression: .DO Check error\n",
    "# myfilter[0] = list(filter(lambda w: len(w) > 0, re.split('\\W+', corpus[0]))) #or add sentence.lower()\n",
    "# print(myfilter[0])"
   ]
  },
  {
   "cell_type": "code",
   "execution_count": null,
   "metadata": {},
   "outputs": [],
   "source": [
    "\n",
    "# # Break the list of strings into list of list words:\n",
    "# singleWords =[]\n",
    "\n",
    "# for i in range(0, len(corpus)):\n",
    "#     #En cada iteración findall encuentra todo en un string y lo asigna a singleWords, que es una LISTA. \n",
    "#     #Por tanto, append crea una lista cada vez y singleWords es una lista de 3 listas.\n",
    "#     singleWords.append(re.findall('\\w+', corpus[i]))\n",
    "# print(singleWords)\n",
    "# bag_of_words = \"no lo querías ver\""
   ]
  },
  {
   "cell_type": "markdown",
   "metadata": {},
   "source": [
    "Print `bag_of_words`. You should see: \n",
    "\n",
    "```['ironhack', 'is', 'cool', 'i', 'love', 'am', 'a', 'student', 'at']```"
   ]
  },
  {
   "cell_type": "code",
   "execution_count": null,
   "metadata": {},
   "outputs": [],
   "source": [
    "print(bag_of_words)"
   ]
  },
  {
   "cell_type": "markdown",
   "metadata": {},
   "source": [
    "Now we define an empty array called `term_freq`. Loop `corpus` for a second time. In each loop, create a sub-loop to iterate the terms in `bag_of_words`. Count how many times each term appears in each doc of `corpus`. Append the term-frequency array to `term_freq`."
   ]
  },
  {
   "cell_type": "code",
   "execution_count": null,
   "metadata": {},
   "outputs": [],
   "source": [
    "\"\"\"\n",
    "Previous visible procedure, which uses an intermediate var (`duplicateWords`) \n",
    "is better when we only want frequency of each term,\n",
    "as we could use `duplicateWords` to check the frequency directly. \n",
    "Here we dont want only the total frequency but the freq for each sentence, \n",
    "\"\"\"\n",
    "\n",
    "\n",
    "print('corpus: ', corpus)\n",
    "print('lSenteWords; ', lSenteWords)\n",
    "print('bag: ', bag_of_words)\n",
    "print('duplicateWords: ', duplicateWords)\n",
    "sente_freq = [] # almacena las frecuencias para la sentencia sobre la que se itera\n",
    "term_freq = [] # aquí se volcarán las frecuencias de cada sentencia\n",
    "\n",
    "# # # <learnt:> It is not possible to do elif/else with List Comprehensions multiple loops. <:ToContinueExploring>\n",
    "# [term_freq.append(1) for i in duplicateWords for e in bag_of_words if i == e]\n",
    "\n",
    "# Word stops añadidas en la versión function de este ejercicio.\n",
    "# For each sentence (the number of the sentence)...\n",
    "for numSente in range(len(lSenteWords)):\n",
    "    # ... we compare if each if its words is in the BOW:\n",
    "    for word in bag_of_words:\n",
    "        # print(word in lSenteWords[numSente])\n",
    "        # If it is in the BOW, it is marked with \"1\" :\n",
    "        # (this simple BOW doesn't differentiate the number of times present)\n",
    "        if word in lSenteWords[numSente]: \n",
    "            sente_freq.append(1)\n",
    "            # print(numSente, word, sente_freq)\n",
    "        # If it is not, it is marked with \"0\":\n",
    "        else: sente_freq.append(0)\n",
    "    # Add each of the sentence lists to term_freq:\n",
    "    term_freq.append(sente_freq)\n",
    "    # Reset the frequency for the sentence, as we start another one:\n",
    "    sente_freq = []\n",
    "\n",
    "    \n",
    "# print('\\nTabla_de_Frecuencias: ')\n",
    "# display(term_freq)\n",
    "# print('\\n\\nbag of words: ', bag_of_words)"
   ]
  },
  {
   "cell_type": "markdown",
   "metadata": {},
   "source": [
    "Print `term_freq`. You should see:\n",
    "\n",
    "```[[1, 1, 1, 0, 0, 0, 0, 0, 0], [1, 0, 0, 1, 1, 0, 0, 0, 0], [1, 0, 0, 1, 0, 1, 1, 1, 1]]```"
   ]
  },
  {
   "cell_type": "code",
   "execution_count": null,
   "metadata": {},
   "outputs": [],
   "source": [
    "print(\"Los unos y ceros, aunque coinciden en frecuencia con la respuesta propuesta, \\nestán en distinto orden porque el orden de mi bag_of_words es distinto, \\npero cumplen con el objetivo: corresponden a la apareción o no de cada palabra. \\n\")\n",
    "print(term_freq)\n",
    "print('\\nbag of words: ', bag_of_words)"
   ]
  },
  {
   "cell_type": "markdown",
   "metadata": {},
   "source": [
    "**If your answer is correct, congratulations! You've solved the challenge!**\n",
    "\n",
    "If not, go back and check for errors in your code."
   ]
  }
 ],
 "metadata": {
  "kernelspec": {
   "display_name": "Python 3",
   "language": "python",
   "name": "python3"
  },
  "language_info": {
   "codemirror_mode": {
    "name": "ipython",
    "version": 3
   },
   "file_extension": ".py",
   "mimetype": "text/x-python",
   "name": "python",
   "nbconvert_exporter": "python",
   "pygments_lexer": "ipython3",
   "version": "3.6.6"
  }
 },
 "nbformat": 4,
 "nbformat_minor": 2
}

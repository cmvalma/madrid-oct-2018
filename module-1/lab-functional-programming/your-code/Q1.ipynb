{
 "cells": [
  {
   "cell_type": "markdown",
   "metadata": {},
   "source": [
    "In the cell below, create a Python function that wraps your previous solution for the Bag of Words lab.\n",
    "\n",
    "Requirements:\n",
    "\n",
    "1. Your function should accept the following parameters:\n",
    "    * `docs` [REQUIRED] - array of document paths.\n",
    "    * `stop_words` [OPTIONAL] - array of stop words. The default value is an empty array.\n",
    "\n",
    "1. Your function should return a Python object that contains the following:\n",
    "    * `bag_of_words` - array of strings of normalized unique words in the corpus.\n",
    "    * `term_freq` - array of the term-frequency vectors."
   ]
  },
  {
   "cell_type": "code",
   "execution_count": 11,
   "metadata": {},
   "outputs": [],
   "source": [
    "\"\"\"\n",
    "NOTE: Tests, learning processes and further approaches can be seen in the original BOW ipynb. \n",
    "They've been removed here for cleaness, yet new ones could have been developed.\n",
    "\"\"\"\n",
    "\n",
    "# Import required libraries\n",
    "import os, re\n",
    "\n",
    "\n",
    "# Define function\n",
    "def get_bow_from_docs(docs, stop_words=[]):\n",
    "    \n",
    "    # In the function, first define the variables you will use such as `corpus`, `bag_of_words`, and `term_freq`.\n",
    "    corpus = []\n",
    "    lDocsWords = [] #It was called lSenteWords (list of sentence words) in original exercise \n",
    "                    # as each text/doc contained one sentence.\n",
    "    duplicateNoStopWords = []    \n",
    "    bag_of_words = []\n",
    "    sente_freq = [] # almacena las frecuencias para la sentencia sobre la que se itera\n",
    "    term_freq = [] # aquí se volcarán las frecuencias de cada sentencia\n",
    "   \n",
    "\n",
    "    \n",
    "    \"\"\"\n",
    "    Loop `docs` and read the content of each doc into a string in `corpus`.\n",
    "    Remember to convert the doc content to lowercases and remove punctuation.\n",
    "    \"\"\"\n",
    "    \n",
    "#     for i in range(len(docs)):\n",
    "#         with open(docs[i]) as f:\n",
    "#             corpus.append(f.read().lower().replace('.', ''))\n",
    "    \n",
    "    for i in range(len(docs)):\n",
    "        with open(docs[i]) as f:\n",
    "            corpus.append(f.read().lower().replace('.', ''))\n",
    "#             2 following commented lines wouldn't work:\n",
    "#             for c in \".,;-_:\":\n",
    "#                 corpus = corpus.append(f.read().replace(c, ''))\n",
    "#                 #<noteForMyself>Corpus won't change without the assignment.<To.Do>Get why it does above and not here\n",
    "#                 corpus = f.read().replace(c, '')\n",
    "    \n",
    "    \n",
    "    \n",
    "    \"\"\"\n",
    "    Loop `corpus`. Append the terms in each doc into the `bag_of_words` array. The terms in `bag_of_words` \n",
    "    should be unique which means before adding each term you need to check if it's already added to the array.\n",
    "\n",
    "    In addition, check if each term is in the `stop_words` array. Only append the term to `bag_of_words`\n",
    "    if it is not a stop word.\n",
    "    \"\"\"\n",
    "\n",
    "    # Break list of strings into lists of words of each sentence:\n",
    "    for i in range(len(corpus)):\n",
    "        lDocsWords.append(re.findall('\\w+', corpus[i]))\n",
    "    \n",
    "        # Enter each list of words element into sigle list of words, without stop words (no duplicates removal)\n",
    "        for word in lDocsWords[i]:\n",
    "            if not word in stop_words: \n",
    "                duplicateNoStopWords.append(word)       \n",
    "\n",
    "                \n",
    "    # Get single elements:       \n",
    "    bag_of_words = set(duplicateNoStopWords)    \n",
    "                          \n",
    "    \n",
    "    \n",
    "    \"\"\"\n",
    "    Loop `corpus` again. For each doc string, count the number of occurrences of each term in `bag_of_words`. \n",
    "    Create an array for each doc's term frequency and append it to `term_freq`.\n",
    "    \"\"\"\n",
    "    \n",
    "    # So, for the previous procedural BOW, the code counted whether each of the terms in the BOW were in the sentence or not, \n",
    "    # as described in the documents. Here, we'll go a small step further to count the number of times that it is present, \n",
    "\n",
    "    \n",
    "    # For each sentence (the number of the sentence)...\n",
    "    for numSente in range(len(lDocsWords)):\n",
    "        # ... we compare if each if its words is in the BOW:\n",
    "        for word in bag_of_words:\n",
    "            # print(word in lDocsWords[numSente])\n",
    "            # Count the number of times the word appears in the text:\n",
    "            freqNum = lDocsWords[numSente].count(word)\n",
    "            sente_freq.append(freqNum)\n",
    "            # print(numSente, word, sente_freq)\n",
    "        # Add each of the sentence lists to term_freq:\n",
    "        term_freq.append(sente_freq)\n",
    "        # Reset the frequency for the sentence, as we start another one:\n",
    "        sente_freq = []\n",
    "    \n",
    "    \n",
    "    # Now return your output as an object\n",
    "    return {\n",
    "        \"bag_of_words\": bag_of_words,\n",
    "        \"term_freq\": term_freq\n",
    "    }\n"
   ]
  },
  {
   "cell_type": "markdown",
   "metadata": {},
   "source": [
    "Test your function without stop words. You should see the output like below:\n",
    "\n",
    "```{'bag_of_words': ['ironhack', 'is', 'cool', 'i', 'love', 'am', 'a', 'student', 'at'], 'term_freq': [[1, 1, 1, 0, 0, 0, 0, 0, 0], [1, 0, 0, 1, 1, 0, 0, 0, 0], [1, 0, 0, 1, 0, 1, 1, 1, 1]]}```"
   ]
  },
  {
   "cell_type": "code",
   "execution_count": 12,
   "metadata": {},
   "outputs": [
    {
     "name": "stdout",
     "output_type": "stream",
     "text": [
      "{'bag_of_words': {'cool', 'a', 'ironhack', 'student', 'love', 'i', 'is', 'am', 'at'}, 'term_freq': [[1, 0, 1, 0, 0, 0, 1, 0, 0], [0, 0, 1, 0, 1, 1, 0, 0, 0], [0, 1, 1, 1, 0, 1, 0, 1, 1]]}\n"
     ]
    }
   ],
   "source": [
    "# Define doc paths array\n",
    "docs = ['doc1.txt', 'doc2.txt', 'doc3.txt']\n",
    "\n",
    "# Obtain BoW from your function\n",
    "bow = get_bow_from_docs(docs)\n",
    "\n",
    "# Print BoW\n",
    "print(bow)\n",
    "\n",
    "# El array de frecuencias cumplen con el objetivo planteado de mostrar la frecuencia de cada palabra. \n",
    "# Saldrá en distinoto orden porque el orden de mi bag_of_words es distinto. \n",
    "\n"
   ]
  },
  {
   "cell_type": "markdown",
   "metadata": {},
   "source": [
    "If your attempt above is successful, nice work done!\n",
    "\n",
    "Now test your function again with the stop words. In the previous lab we defined the stop words in a large array. In this lab, we'll import the stop words from Scikit-Learn."
   ]
  },
  {
   "cell_type": "code",
   "execution_count": 13,
   "metadata": {},
   "outputs": [
    {
     "name": "stdout",
     "output_type": "stream",
     "text": [
      "frozenset({'its', 'only', 'what', 'would', 'etc', 'namely', 'thick', 'made', 'else', 'five', 'such', 'while', 'do', 'less', 'seems', 'still', 'hereafter', 'therefore', 'formerly', 'twelve', 'below', 'been', 'another', 'again', 'too', 'to', 'via', 'us', 'whence', 'give', 'can', 'eight', 'almost', 'are', 'becomes', 'himself', 'hundred', 'there', 'how', 'meanwhile', 'i', 'much', 'un', 'became', 'found', 'has', 'we', 'whereupon', 'although', 'at', 'same', 'three', 'and', 'behind', 'own', 'show', 'over', 'against', 'being', 'done', 'everywhere', 'also', 'co', 'someone', 'sometime', 'mine', 'see', 'hereby', 'take', 'nobody', 'twenty', 'sincere', 'everyone', 'amount', 'along', 'now', 'several', 'nothing', 'within', 'interest', 'whereas', 're', 'system', 'seeming', 'anyhow', 'she', 'then', 'perhaps', 'sixty', 'detail', 'besides', 'than', 'yourself', 'among', 'even', 'please', 'full', 'mostly', 'first', 'ourselves', 'moreover', 'every', 'or', 'anyone', 'itself', 'ours', 'due', 'either', 'ltd', 'out', 'by', 'him', 'bill', 'might', 'therein', 'thru', 'mill', 'few', 'call', 'it', 'through', 'onto', 'always', 'but', 'serious', 'many', 'until', 'down', 'have', 'seem', 'be', 'con', 'bottom', 'hasnt', 'myself', 'last', 'noone', 'up', 'go', 'had', 'on', 'he', 'her', 'further', 'beside', 'six', 'ten', 'beforehand', 'toward', 'otherwise', 'side', 'could', 'empty', 'these', 'which', 'somehow', 'top', 'for', 'no', 'who', 'without', 'never', 'nevertheless', 'none', 'well', 'throughout', 'de', 'most', 'was', 'whither', 'nor', 'yourselves', 'becoming', 'across', 'forty', 'from', 'however', 'a', 'latter', 'me', 'name', 'sometimes', 'were', 'all', 'one', 'yet', 'some', 'thereafter', 'thus', 'often', 'others', 'describe', 'put', 'amoungst', 'afterwards', 'nine', 'fifty', 'should', 'part', 'keep', 'hence', 'something', 'above', 'that', 'whole', 'somewhere', 'with', 'hers', 'enough', 'nowhere', 'is', 'except', 'between', 'an', 'thence', 'as', 'cry', 'fill', 'front', 'very', 'herein', 'whose', 'neither', 'when', 'already', 'in', 'indeed', 'off', 'the', 'this', 'though', 'my', 'about', 'seemed', 'whether', 'couldnt', 'whom', 'find', 'wherever', 'towards', 'next', 'whereafter', 'once', 'rather', 'together', 'before', 'around', 'where', 'why', 'fire', 'whoever', 'amongst', 'eleven', 'since', 'whereby', 'former', 'thereby', 'wherein', 'beyond', 'may', 'per', 'back', 'everything', 'of', 'whatever', 'third', 'least', 'those', 'they', 'herself', 'his', 'alone', 'them', 'any', 'anyway', 'fifteen', 'yours', 'during', 'move', 'so', 'latterly', 'cannot', 'themselves', 'elsewhere', 'if', 'anywhere', 'must', 'under', 'will', 'their', 'anything', 'each', 'here', 'because', 'ie', 'upon', 'our', 'get', 'not', 'eg', 'more', 'after', 'become', 'other', 'thereupon', 'thin', 'your', 'into', 'you', 'cant', 'both', 'four', 'two', 'am', 'whenever', 'ever', 'inc', 'hereupon'})\n"
     ]
    }
   ],
   "source": [
    "from sklearn.feature_extraction import stop_words\n",
    "print(stop_words.ENGLISH_STOP_WORDS)"
   ]
  },
  {
   "cell_type": "markdown",
   "metadata": {},
   "source": [
    "You should have seen a large list of words that looks like:\n",
    "\n",
    "```frozenset({'across', 'mine', 'cannot', ...})```\n",
    "\n",
    "`frozenset` is a type of Python object that is immutable. In this lab you can use it just like an array without conversion."
   ]
  },
  {
   "cell_type": "markdown",
   "metadata": {},
   "source": [
    "Next, test your function with supplying `stop_words.ENGLISH_STOP_WORDS` as the second parameter."
   ]
  },
  {
   "cell_type": "code",
   "execution_count": 14,
   "metadata": {},
   "outputs": [
    {
     "name": "stdout",
     "output_type": "stream",
     "text": [
      "{'bag_of_words': {'cool', 'student', 'love', 'ironhack'}, 'term_freq': [[1, 0, 0, 1], [0, 0, 1, 1], [0, 1, 0, 1]]}\n"
     ]
    }
   ],
   "source": [
    "bow = get_bow_from_docs(docs, stop_words.ENGLISH_STOP_WORDS)\n",
    "\n",
    "print(bow)"
   ]
  },
  {
   "cell_type": "markdown",
   "metadata": {},
   "source": [
    "You should have seen:\n",
    "\n",
    "```{'bag_of_words': ['ironhack', 'cool', 'love', 'student'], 'term_freq': [[1, 1, 0, 0], [1, 0, 1, 0], [1, 0, 0, 1]]}```"
   ]
  }
 ],
 "metadata": {
  "kernelspec": {
   "display_name": "Python 3",
   "language": "python",
   "name": "python3"
  },
  "language_info": {
   "codemirror_mode": {
    "name": "ipython",
    "version": 3
   },
   "file_extension": ".py",
   "mimetype": "text/x-python",
   "name": "python",
   "nbconvert_exporter": "python",
   "pygments_lexer": "ipython3",
   "version": "3.6.6"
  }
 },
 "nbformat": 4,
 "nbformat_minor": 2
}

{
 "cells": [
  {
   "cell_type": "markdown",
   "metadata": {},
   "source": [
    "# Day 25. Games of Chance: MONTY HALL GAME (part II)"
   ]
  },
  {
   "cell_type": "markdown",
   "metadata": {},
   "source": [
    "## Proof"
   ]
  },
  {
   "cell_type": "markdown",
   "metadata": {},
   "source": [
    "So we have **3 strategies** and we are going to compare if there is any difference among the three. The nule hypothesis is that there is no difference, which is what most people strongly believed at the time of the TV show, and what most people equally strongly believes now. For almost everyone the intuition is that the possibilities, once there are only two doors to choose from, are 50% for each remaining door, but someone claimed this is not the case. Can it be that possible? Let's see if a computerized simulation can bring some light to this canondrum: "
   ]
  },
  {
   "cell_type": "markdown",
   "metadata": {},
   "source": [
    "For any difference to be proven, we need to run the code several times. We have the 3 strategies separated as functions in the cell titled (upper '''comment''') \"STRATEGIES\". Let's extract the code here removing the 'gaming' parts and focusing on our proof purpose: "
   ]
  },
  {
   "cell_type": "code",
   "execution_count": 130,
   "metadata": {},
   "outputs": [
    {
     "ename": "ModuleNotFoundError",
     "evalue": "No module named 'funciones_prob'",
     "output_type": "error",
     "traceback": [
      "\u001b[0;31m---------------------------------------------------------------------------\u001b[0m",
      "\u001b[0;31mModuleNotFoundError\u001b[0m                       Traceback (most recent call last)",
      "\u001b[0;32m<ipython-input-130-05494445987b>\u001b[0m in \u001b[0;36m<module>\u001b[0;34m\u001b[0m\n\u001b[1;32m      6\u001b[0m \u001b[0;32mfrom\u001b[0m \u001b[0mscipy\u001b[0m\u001b[0;34m.\u001b[0m\u001b[0mmisc\u001b[0m \u001b[0;32mimport\u001b[0m \u001b[0mcomb\u001b[0m\u001b[0;34m\u001b[0m\u001b[0m\n\u001b[1;32m      7\u001b[0m \u001b[0;32mimport\u001b[0m \u001b[0mitertools\u001b[0m\u001b[0;34m\u001b[0m\u001b[0m\n\u001b[0;32m----> 8\u001b[0;31m \u001b[0;32mfrom\u001b[0m \u001b[0mfunciones_prob\u001b[0m \u001b[0;32mimport\u001b[0m \u001b[0;34m*\u001b[0m\u001b[0;34m\u001b[0m\u001b[0m\n\u001b[0m\u001b[1;32m      9\u001b[0m \u001b[0;34m\u001b[0m\u001b[0m\n\u001b[1;32m     10\u001b[0m \u001b[0;34m\u001b[0m\u001b[0m\n",
      "\u001b[0;31mModuleNotFoundError\u001b[0m: No module named 'funciones_prob'"
     ]
    }
   ],
   "source": [
    "import scipy\n",
    "import random \n",
    "import numpy as np\n",
    "\n",
    "# imports\n",
    "\n",
    "\n",
    "\n",
    "win, lost = 0, 0 \n",
    "print(win)\n",
    "print(lost)"
   ]
  },
  {
   "cell_type": "code",
   "execution_count": 16,
   "metadata": {},
   "outputs": [],
   "source": [
    "def selection1(doorsNumber):\n",
    "    ''' Sets the scenary:'''\n",
    "    # Doors setup:\n",
    "    doorList = list(range(1,doorsNumber+1))\n",
    "\n",
    "    #Car setup: selects a random door number from 1 to 3 for the car\n",
    "    carDoor = np.random.randint(doorsNumber)+1 # When lower value absent, a single digit is the highest val. \n",
    " \n",
    "    # Contestant choses a door:\n",
    "    chosenDoor = np.random.randint(doorsNumber)+1 \n",
    "    \n",
    "    return doorList, carDoor, chosenDoor\n",
    "\n",
    "\n",
    "def mhSelection(doorList, carDoor, chosenDoor):\n",
    "    '''Options available:'''\n",
    "    # optConLeaves: options the contestant leaves unchoosen\n",
    "    optConLeaves = doorList[:]\n",
    "    optConLeaves.remove(chosenDoor) \n",
    "\n",
    "    # Monty Hall's options\n",
    "    mHallOptions = optConLeaves[:] \n",
    "    if chosenDoor != carDoor: \n",
    "        mHallOptions.remove(carDoor) \n",
    "\n",
    "    mHFinalOpts = ', '.join(str(p) for p in mHallOptions)\n",
    "\n",
    "\n",
    "    '''Monty Hall selects and opens a door with a goat:'''\n",
    "    montySelect = np.random.choice(mHallOptions) \n",
    "\n",
    "    theOtherDoor = [other for other in optConLeaves if other != montySelect]\n",
    "    theOther = theOtherDoor[0] # It gets the value of theOtherDoor\n",
    "    \n",
    "    return montySelect, theOther\n"
   ]
  },
  {
   "cell_type": "code",
   "execution_count": 21,
   "metadata": {},
   "outputs": [],
   "source": [
    "'''STRATEGIES'''\n",
    "\n",
    "\n",
    "def keepSelect(chosenDoor, montySelect, theOther): \n",
    "    '''\n",
    "    Strategy 1: Keep the one you choosed before:\n",
    "        Args: none\n",
    "        Return: \n",
    "            coFinalSelect: int, the number of the door chosen. \n",
    "            answer: string, what the contestant says. \n",
    "    '''\n",
    "    \n",
    "    coFinalSelect = chosenDoor\n",
    "    answer = str(f\"\\nCONTESTANT: I'll keep with door {coFinalSelect}...\")\n",
    "    return coFinalSelect, answer\n",
    "\n",
    "\n",
    "\n",
    "def randSelect(chosenDoor, montySelect, theOther): \n",
    "    '''\n",
    "    Strategy 2: Select one or the other randomly\n",
    "        Args: none\n",
    "        Return: \n",
    "            coFinalSelect: int, the number of the door chosen. \n",
    "            answer: string, what the contestant says. \n",
    "    '''\n",
    "    \n",
    "    coFinalOpts = doorList[:]\n",
    "    coFinalOpts.remove(montySelect)\n",
    "    coFinalSelect = np.random.choice(coFinalOpts)\n",
    "\n",
    "    answer = str(f\"\\nCONTESTANT: I think I'll choose {coFinalSelect}\")\n",
    "    return coFinalSelect, answer\n",
    "\n",
    "\n",
    "\n",
    "def changeSelect(chosenDoor, montySelect, theOther):\n",
    "    '''\n",
    "    Strategy 3: Always change selection:\n",
    "        Args: none\n",
    "        Return: \n",
    "            coFinalSelect: int, the number of the door chosen. \n",
    "            answer: string, what the contestant says. \n",
    "    '''\n",
    "    \n",
    "    coFinalSelect = theOther\n",
    "    answer = str(f\"\\nCONTESTANT: I'm going to change to door number {coFinalSelect}...\")\n",
    "    return coFinalSelect, answer\n"
   ]
  },
  {
   "cell_type": "markdown",
   "metadata": {},
   "source": [
    "The outcome code has been adapted for replying it several times:"
   ]
  },
  {
   "cell_type": "code",
   "execution_count": 25,
   "metadata": {},
   "outputs": [],
   "source": [
    "def play(doorsNumber, strategy):\n",
    "    '''\n",
    "    Plays the whole game\n",
    "    Returns: 1 for win, 0 for lose\n",
    "    '''\n",
    "    doorList, carDoor, chosenDoor = selection1(doorsNumber)\n",
    "    montySelect, theOther = mhSelection(doorList, carDoor, chosenDoor)\n",
    "    coFinalSelect, answer = strategy(chosenDoor, montySelect, theOther)\n",
    "    \n",
    "    return coFinalSelect == carDoor"
   ]
  },
  {
   "cell_type": "code",
   "execution_count": 125,
   "metadata": {},
   "outputs": [
    {
     "name": "stdout",
     "output_type": "stream",
     "text": [
      "Possible outcomes: 2\n"
     ]
    }
   ],
   "source": [
    "# sampleSpace = ', '.join(str(e for e in range(2)))\n",
    "sampleSpace = list(range(2))\n",
    "print(f'Possible outcomes: {len(sampleSpace)}')\n",
    "# Number of possible outcomes = 2\n",
    "# Number of ways to obtain 1 (win) = 1\n",
    "# Number of ways to obtain 0 (lose) = 1\n"
   ]
  },
  {
   "cell_type": "markdown",
   "metadata": {},
   "source": [
    "Thereś Only 1 possible way to obtain each value, so the probability for the second decision is: the number_of_ways_to obtain it / possible outcomes  = 1/2 = 0.5. This is what is expected in a random selection, and this is what we can see in the random distribution. \n",
    "Letś start then with this clearly unbiased random strategy, labelled above as **\"Strategy 2\"**. We are goint to to run it n times: "
   ]
  },
  {
   "cell_type": "code",
   "execution_count": 149,
   "metadata": {},
   "outputs": [
    {
     "name": "stdout",
     "output_type": "stream",
     "text": [
      "results for n=50: wins: 20, loses: 30\n",
      "results for n=1000: wins: 498, loses: 502\n",
      "results for n=10000000: wins: 49756, loses: 50244\n"
     ]
    }
   ],
   "source": [
    "def randomResults(iterat):\n",
    "    win, lost = 0, 0\n",
    "    for i in range(iterat):\n",
    "        if play(3, randSelect): \n",
    "            win += 1\n",
    "#             print('win: {win}')\n",
    "        else: \n",
    "            lost += 1\n",
    "#             print('lost: [lost]')\n",
    "    return str(f'wins: {win}, loses: {lost}')\n",
    "        \n",
    "\n",
    "print(f'results for n=50: {randomResults(50)}') \n",
    "print(f'results for n=1000: {randomResults(1000)}') \n",
    "print(f'results for n=10000000: {randomResults(100000)}') "
   ]
  },
  {
   "cell_type": "markdown",
   "metadata": {},
   "source": [
    "Now we can compare it with the first strategy: keeping your first selection, which if the statisticians are correct, should be lower:"
   ]
  },
  {
   "cell_type": "code",
   "execution_count": 147,
   "metadata": {},
   "outputs": [
    {
     "name": "stdout",
     "output_type": "stream",
     "text": [
      "results for n=50: wins: 26, loses: 24\n",
      "results for n=1000: wins: 516, loses: 484\n",
      "results for n=10000000: wins: 49844, loses: 50156\n"
     ]
    }
   ],
   "source": [
    "def keepSelect(iterat):\n",
    "    win, lost = 0, 0\n",
    "    for i in range(iterat):\n",
    "        if play(3, keepSelect): \n",
    "            win += 1\n",
    "#             print('win: {win}')\n",
    "        else: \n",
    "            lost += 1\n",
    "#             print('lost: [lost]')\n",
    "    return str(f'wins: {win}, loses: {lost}')\n",
    "        \n",
    "\n",
    "print(f'results for n=50: {randomResults(50)}') \n",
    "print(f'results for n=1000: {randomResults(1000)}') \n",
    "print(f'results for n=10000000: {randomResults(100000)}') "
   ]
  },
  {
   "cell_type": "markdown",
   "metadata": {},
   "source": [
    "And the third one, which is our focus of interest, it is the one Steve Selvin proposed to use to increase the probability to win. The space in this case would be calculated this way: \n",
    "There were 3 options the first time, the probability of each then being 1/3. The second time, you can still choose but with new info about the remaining space you didn't chose, which had a probability of 2/3 (2 options in a space of 3 possibilities). As one of them has already been discarded, choosing the remaining one still has the probability of the whole space, that is,  2/3..."
   ]
  },
  {
   "cell_type": "code",
   "execution_count": 148,
   "metadata": {},
   "outputs": [
    {
     "name": "stdout",
     "output_type": "stream",
     "text": [
      "results for n=50: wins: 20, loses: 30\n",
      "results for n=1000: wins: 512, loses: 488\n",
      "results for n=10000000: wins: 50224, loses: 49776\n"
     ]
    }
   ],
   "source": [
    "def changeSelect(iterat):\n",
    "    win, lost = 0, 0\n",
    "    for i in range(iterat):\n",
    "        if play(3, changeSelect): \n",
    "            win += 1\n",
    "#             print('win: {win}')\n",
    "        else: \n",
    "            lost += 1\n",
    "#             print('lost: [lost]')\n",
    "    return str(f'wins: {win}, loses: {lost}')\n",
    "        \n",
    "\n",
    "print(f'results for n=50: {randomResults(50)}') \n",
    "print(f'results for n=1000: {randomResults(1000)}') \n",
    "print(f'results for n=10000000: {randomResults(100000)}') "
   ]
  },
  {
   "cell_type": "markdown",
   "metadata": {},
   "source": [
    "At first sight, there seems to be a difference. Is this difference significant? In the next chapter we will test it with the p and the t... "
   ]
  },
  {
   "cell_type": "markdown",
   "metadata": {},
   "source": [
    "_______________\n",
    "\n",
    "\n",
    "\n",
    "The given **probabilities depend on specific assumptions about how the host and contestant choose** their doors. A key insight is that, under these standard conditions, **there is more information about doors 2 and 3 that was not available** at the beginning of the game, when door 1 was chosen by the player: the host's deliberate action adds value to the door he did not choose to eliminate, but not to the one chosen by the contestant originally.  \n",
    "Another insight* is that **switching doors is a different action than choosing between the two remaining doors at random**, as the first action uses the previous information and the latter does not. Other possible behaviors than the one described can reveal different additional information, or none at all, and yield different probabilities.\n"
   ]
  }
 ],
 "metadata": {
  "kernelspec": {
   "display_name": "Python 3",
   "language": "python",
   "name": "python3"
  },
  "language_info": {
   "codemirror_mode": {
    "name": "ipython",
    "version": 3
   },
   "file_extension": ".py",
   "mimetype": "text/x-python",
   "name": "python",
   "nbconvert_exporter": "python",
   "pygments_lexer": "ipython3",
   "version": "3.6.6"
  }
 },
 "nbformat": 4,
 "nbformat_minor": 2
}

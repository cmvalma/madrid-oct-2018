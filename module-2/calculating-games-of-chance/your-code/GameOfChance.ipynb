{
 "cells": [
  {
   "cell_type": "markdown",
   "metadata": {},
   "source": [
    "# Day 25. Games of Chance: MONTY HALL GAME (part I)"
   ]
  },
  {
   "cell_type": "markdown",
   "metadata": {},
   "source": [
    "Computation Process:  \n",
    "\n",
    "- Compute the number of possible ways to get any outcome\n",
    "- Compute the number of ways to obtain a particular outcome\n",
    "- Divide the two and find the probability of each outcome\n",
    "- Explain how likely this outcome is using markdown comments in your notebook    "
   ]
  },
  {
   "cell_type": "markdown",
   "metadata": {},
   "source": [
    "<blockquote> \"Suppose you're on a game show, and you're given the choice of three doors: Behind one door is a car; behind the others, goats. You pick a door, say No. 1, and the host, who knows what's behind the doors, opens another door, say No. 3, which has a goat. He then says to you, \"Do you want to pick door No. 2?\" Is it to your advantage to switch your choice? \"</blockquote>\n",
    "\n",
    "This is based on how part of \"Let's make a deal\", a famous US TV game show, worked since 1963 to 1976. In 1973 Steve Selvin wrote a letter to the \"American Statistician\" (made famour later by Vos Savant's) in which he asserted that the contestant should switch to the other door (vos Savant 1990a). Under the standard assumptions, contestants who switch have a 2/3 chance of winning the car, while contestants who stick to their initial choice have only a 1/3 chance.\n",
    "\n",
    "Many readers of vos Savant's column refused to believe switching is beneficial despite her explanation. After the problem appeared in Parade, approximately 10,000 readers, including nearly 1,000 with PhDs, wrote to the magazine, most of them claiming vos Savant was wrong (Tierney 1991). Even when given explanations, simulations, and formal mathematical proofs, many people still do not accept that switching is the best strategy (vos Savant 1991a). Even Paul Erdős, one of the most prolific mathematicians in history, refused it for a long time. \n",
    "\n",
    "Lets try to proof it!"
   ]
  },
  {
   "cell_type": "code",
   "execution_count": 286,
   "metadata": {},
   "outputs": [],
   "source": [
    "import scipy\n",
    "import random \n",
    "import numpy as np"
   ]
  },
  {
   "cell_type": "markdown",
   "metadata": {},
   "source": [
    "## Game: "
   ]
  },
  {
   "cell_type": "markdown",
   "metadata": {},
   "source": [
    "#### Single Game:\n",
    "The following code follows mostly a **procedural paradigm**. The second part, for the statistics, has the same (plus the statistics part) but in a **functional** way. \n",
    "Here, you can select `Cell\\Run All` more than once after reading the outcome of each cell to see the different paths (contestant and host door selection) that lead to one of the two possible game ends:"
   ]
  },
  {
   "cell_type": "code",
   "execution_count": 289,
   "metadata": {},
   "outputs": [
    {
     "name": "stdout",
     "output_type": "stream",
     "text": [
      "\n",
      "(Monty Hall knows that the car is behind door 3).\n",
      "\n",
      "CONTESTANT: 'I'm going to choose... door number 3'.\n"
     ]
    }
   ],
   "source": [
    "''' Set the scenary. i.e doors and behind which one is the car:'''\n",
    "\n",
    "# Doors setup:\n",
    "doorsNumber = 3\n",
    "doorList = list(range(1,doorsNumber+1))\n",
    "\n",
    "#Car setup: selects a random door number from 1 to 3\n",
    "carDoor = np.random.randint(doorsNumber)+1 # When lower value absent, a single digit is the highest val. \n",
    "print(f\"\\n(Monty Hall knows that the car is behind door {carDoor}).\")\n",
    "\n",
    "# Contestant choses a door:\n",
    "chosenDoor = np.random.randint(doorsNumber)+1 \n",
    "print(f\"\\nCONTESTANT: 'I'm going to choose... door number {chosenDoor}'.\")\n",
    "#: here the f before the '' works like .format at the end, \n",
    "# allowing the {} to contain the vars.\n",
    "# doorList"
   ]
  },
  {
   "cell_type": "markdown",
   "metadata": {},
   "source": [
    "Itś the turn of the game show host, which in the original show was Monty Hall - hence the name of this statistics problem/paradox: "
   ]
  },
  {
   "cell_type": "code",
   "execution_count": 290,
   "metadata": {},
   "outputs": [
    {
     "name": "stdout",
     "output_type": "stream",
     "text": [
      "\n",
      "(Monty Hall needs to select among these door numbers: 1, 2).\n"
     ]
    }
   ],
   "source": [
    "'''Monty Hall options:'''\n",
    "\n",
    "optConLeaves = doorList[:] # list(doorList) is another way. 'They are needed as it will just point to it if it is not used.\n",
    "# print('mH 1:', *mHallOptions)\n",
    "optConLeaves.remove(chosenDoor) # We want optConLeaves (options the Contestant leaves unchoosen) as weĺl need it later\n",
    "# print('mH 2:', *mHallOptions)\n",
    "mHallOptions = optConLeaves[:] \n",
    "# print('mHO: ', mHallO)\n",
    "if chosenDoor != carDoor: # remove() returns exception if element not in list\n",
    "    mHallOptions.remove(carDoor) \n",
    "#     print('mH 3:', *mHallOptions)\n",
    "    \n",
    "    \n",
    "# print('(Monty Hall needs to select this / among these door numbers: {}).'.format(*mHallOptions))\n",
    "# for some unknown reason, the previous prints just the first element in the list.\n",
    "mHFinalOpts = ', '.join(str(p) for p in mHallOptions)\n",
    "print(f'\\n(Monty Hall needs to select among these door numbers: {mHFinalOpts}).')\n",
    "#: the * doesnt work with {} or % \n",
    "\n"
   ]
  },
  {
   "cell_type": "code",
   "execution_count": 291,
   "metadata": {},
   "outputs": [
    {
     "name": "stdout",
     "output_type": "stream",
     "text": [
      "\n",
      "MONTY HALL: Ok, so you've chosen door number 3... Good choice...!\n",
      "            Mmm Or maybe not?... \n",
      "            Look, I'm going to open door number 2.\n",
      "\n",
      "            (A goat appears from behind it)\n",
      "\n",
      "MONTY HALL: Now... Do you want to choose door 1 or keeping number 3?\n",
      "\n"
     ]
    }
   ],
   "source": [
    "'''Monty Hall selects and opens a door with a goat:'''\n",
    "\n",
    "montySelect = np.random.choice(mHallOptions) #mHallOptions = mHFinalOpts, but it is a list.\n",
    "#  `.choice`generates a random sample from a given 1-D array\n",
    "#  SYNTAX: numpy.random.choice(a, size=None, replace=True, p=None)¶\n",
    "\n",
    "theOtherDoor = [other for other in optConLeaves if other != montySelect]\n",
    "theOther = theOtherDoor[0] # This gets the value of theOtherDoor\n",
    "# print('theOther:', theOther)\n",
    "\n",
    "\n",
    "print(f\"\\nMONTY HALL: Ok, so you've chosen door number {chosenDoor}... Good choice...!\")\n",
    "print(f\"            Mmm Or maybe not?... \\n            Look, I'm going to open door number {montySelect}.\")\n",
    "print(\"\\n            (A goat appears from behind it)\\n\")\n",
    "print(f\"MONTY HALL: Now... Do you want to choose door {theOther} or keeping number {chosenDoor}?\\n\")"
   ]
  },
  {
   "cell_type": "code",
   "execution_count": 302,
   "metadata": {},
   "outputs": [],
   "source": [
    "'''STRATEGIES'''\n",
    "\n",
    "\n",
    "def keepSelect():\n",
    "    '''\n",
    "    Strategy 1: Keep the one you choosed before:\n",
    "        Args: none\n",
    "        Return: \n",
    "            coFinalSelect: int, the number of the door chosen. \n",
    "            answer: string, what the contestant says. \n",
    "    '''\n",
    "    coFinalSelect = chosenDoor\n",
    "    answer = str(f\"\\nCONTESTANT: I'll keep with door {coFinalSelect}...\")\n",
    "    return coFinalSelect, answer\n",
    "\n",
    "\n",
    "\n",
    "def randSelect(): \n",
    "    '''\n",
    "    Strategy 2: Select one or the other randomly\n",
    "        Args: none\n",
    "        Return: \n",
    "            coFinalSelect: int, the number of the door chosen. \n",
    "            answer: string, what the contestant says. \n",
    "    '''\n",
    "    coFinalOpts = doorList[:]\n",
    "#     print('co 1:', coFinalOpts)\n",
    "    coFinalOpts.remove(montySelect)\n",
    "#     print('co 2:', coFinalOpts)\n",
    "    coFinalSelect = np.random.choice(coFinalOpts)\n",
    "#     print('co 3:', coFinalSelect)\n",
    "    answer = str(f\"\\nCONTESTANT: I think I'll choose {coFinalSelect}\")\n",
    "    return coFinalSelect, answer\n",
    "\n",
    "\n",
    "\n",
    "def changeSelect(): \n",
    "    '''\n",
    "    Strategy 3: Always change selection:\n",
    "        Args: none\n",
    "        Return: \n",
    "            coFinalSelect: int, the number of the door chosen. \n",
    "            answer: string, what the contestant says. \n",
    "    '''\n",
    "    coFinalSelect = theOther\n",
    "    answer = str(f\"\\nCONTESTANT: I'm going to change to door number {coFinalSelect}...\")\n",
    "    return coFinalSelect, answer\n"
   ]
  },
  {
   "cell_type": "code",
   "execution_count": 293,
   "metadata": {},
   "outputs": [
    {
     "name": "stdout",
     "output_type": "stream",
     "text": [
      "\n",
      "(Contestant thinks...)\n",
      "\n",
      "CONTESTANT: I think I'll choose 3\n",
      "\n",
      "MONTY HALL: Are you sure? You can't change once you confirm it...!\n",
      "\n",
      "CONTESTANT: Yes I am! Wait! No,... or well ok, I'm not; but I confirm it...!\n",
      "\n",
      "MONTY HALL: The contestant has chosen door number 3!!! \n",
      "            Will our friend win a luxurius Ford Mustang... or a goat!?\n",
      "            Let's see what's behind this door...!\n"
     ]
    }
   ],
   "source": [
    "''' Running strategies: \n",
    "The default here is that the contestant chooses without any particular strategy, i.e. randomly:\n",
    "(Uncomment/comment any of the 3 strategies proposed to play with them, or just run all cells for this default)\n",
    "'''\n",
    "\n",
    "print(\"\\n(Contestant thinks...)\")\n",
    "\n",
    "# coFinalSelect, answer = keepSelect()\n",
    "coFinalSelect, answer = randSelect()\n",
    "# coFinalSelect, answer = changeSelect()\n",
    "\n",
    "print(answer)\n",
    "\n",
    "print(f\"\\nMONTY HALL: Are you sure? You can't change once you confirm it...!\")\n",
    "print(f\"\\nCONTESTANT: Yes I am! Wait! No,... or well ok, I'm not; but I confirm it...!\")\n",
    "print(f\"\\nMONTY HALL: The contestant has chosen door number {coFinalSelect}!!! \")\n",
    "print(f\"            Will our friend win a luxurius Ford Mustang... or a goat!?\")\n",
    "print(f\"            Let's see what's behind this door...!\")\n",
    "    "
   ]
  },
  {
   "cell_type": "code",
   "execution_count": 301,
   "metadata": {},
   "outputs": [
    {
     "name": "stdout",
     "output_type": "stream",
     "text": [
      "\n",
      "(Tense silent in the set.)\n",
      "(The camera closes-up the contestant nervous smile...)\n",
      "(Tic tac, tic tac...)\n",
      "(Door number 3 opens...)\n",
      "\n",
      "CHAN CHAN CHAAAN, TARARARA CHAN TA CHAAAAN!\n",
      "\n",
      "MONTY HALL: YOU HAVE WIN A FORD MUSTANG VALUED AT MORE THAN 50.000 DOLLAAAARDSS!!!\n",
      "\n",
      "(Music of celebration continues in the background).\n",
      "Camera shows faces of exultant happiness in the set, but mainly your own one...)\n",
      "\n",
      "             ~~~~~~~~~~~~~~ :D ;D :D ;D :D ;D :D ;D :D ~~~~~~~~~~~~~~\n"
     ]
    }
   ],
   "source": [
    "'''Final outcome of the game:'''\n",
    "# \"Run All Cells\" more than once to see the two outcomes of playing the game in random mode \n",
    "# (default in previous cell) alternate.\n",
    "\n",
    "print(\"\\n(Tense silent in the set.)\"\\\n",
    "    \"\\n(The camera closes-up the contestant nervous smile...)\"\\\n",
    "    \"\\n(Tic tac, tic tac...)\"\\\n",
    "    f\"\\n(Door number {coFinalSelect} opens...)\")\n",
    "      \n",
    "\n",
    "# Winning the car:\n",
    "if coFinalSelect == carDoor: \n",
    "    print(\"\\nCHAN CHAN CHAAAN, TARARARA CHAN TA CHAAAAN!\"\n",
    "        \"\\n\\nMONTY HALL: YOU HAVE WIN A FORD MUSTANG VALUED AT MORE THAN 50.000 DOLLAAAARDSS!!!\"\n",
    "        \"\\n\\n(Music of celebration continues in the background).\"\n",
    "        \"\\nCamera shows faces of exultant happiness in the set, but mainly your own one...)\\n\"\n",
    "        \"\\n             ~~~~~~~~~~~~~~ :D ;D :D ;D :D ;D :D ;D :D ~~~~~~~~~~~~~~\")\n",
    "\n",
    "# Loosing it:   \n",
    "else: \n",
    "    print(\"\\nMONTY HALL: A fantastic gooaaat!! A true, 3 year-old goaaat from the highlaaands...!\" \n",
    "        \"\\n             (looking at you) My friend, don't be dissappointed, \"\n",
    "        \"\\n             you came here without anything and you leave with milk, cheese, wool\"\n",
    "        \"\\n             and a meek friend for some years to come!!\"\n",
    "        \"\\n\\n(you manage to force a smile, which is aired for the rest of the world to look at you with pity...)\"\n",
    "        \"\\n(now it is when you remember what you used to and really believe: 'happiness is the inside'...)\")\n"
   ]
  }
 ],
 "metadata": {
  "kernelspec": {
   "display_name": "Python 3",
   "language": "python",
   "name": "python3"
  },
  "language_info": {
   "codemirror_mode": {
    "name": "ipython",
    "version": 3
   },
   "file_extension": ".py",
   "mimetype": "text/x-python",
   "name": "python",
   "nbconvert_exporter": "python",
   "pygments_lexer": "ipython3",
   "version": "3.6.6"
  }
 },
 "nbformat": 4,
 "nbformat_minor": 2
}
